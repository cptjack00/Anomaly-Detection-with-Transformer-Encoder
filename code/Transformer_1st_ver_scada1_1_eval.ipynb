{
 "cells": [
  {
   "cell_type": "code",
   "execution_count": 1,
   "id": "d6d4a3e9",
   "metadata": {},
   "outputs": [
    {
     "ename": "SyntaxError",
     "evalue": "invalid syntax (1417961504.py, line 3)",
     "output_type": "error",
     "traceback": [
      "\u001b[0;36m  File \u001b[0;32m\"/tmp/ipykernel_62660/1417961504.py\"\u001b[0;36m, line \u001b[0;32m3\u001b[0m\n\u001b[0;31m    from\u001b[0m\n\u001b[0m        ^\u001b[0m\n\u001b[0;31mSyntaxError\u001b[0m\u001b[0;31m:\u001b[0m invalid syntax\n"
     ]
    }
   ],
   "source": [
    "import torch\n",
    "import numpy as np\n",
    "from train import create_dataloader\n",
    "from model import make_model"
   ]
  },
  {
   "cell_type": "code",
   "execution_count": null,
   "id": "ae69791d",
   "metadata": {},
   "outputs": [],
   "source": [
    "config = {'dataset': 'scada1_1', 'l_win': 500, 'pre_mask': 200, 'post_mask': 400,\n",
    "          'batch_size': 32, 'shuffle': True, 'dataloader_num_workers': 4, 'num_epoch': 50, 'model_path': '../models/'}"
   ]
  },
  {
   "cell_type": "code",
   "execution_count": null,
   "id": "a6f3847c",
   "metadata": {},
   "outputs": [],
   "source": [
    "model = make_model(N=6, d_model=16, l_win=config['l_win'], d_ff=128, h=1, dropout=0.1).float()\n",
    "model.load_state_dict(torch.load(config['model_path'] + \"best_train_49.pth\"))\n",
    "model.eval()"
   ]
  },
  {
   "cell_type": "code",
   "execution_count": null,
   "id": "7567d57a",
   "metadata": {},
   "outputs": [],
   "source": [
    "class EvalDataset(Dataset):\n",
    "    def __init__(self, config):\n",
    "        super().__init__()\n",
    "        self.config = config\n",
    "        self.load_dataset(self.config['dataset'])\n",
    "        self.input_mask = self._create_window_mask()\n",
    "\n",
    "    def __len__(self):\n",
    "        return self.rolling_windows.shape[0]\n",
    "\n",
    "    def __getitem__(self, index):\n",
    "        input = self.rolling_windows[index, :, :]\n",
    "        sample = {\"input\": input, \"target\": input}\n",
    "        return sample\n",
    "\n",
    "    def load_dataset(self, dataset):\n",
    "        data_dir = '../data/scada/'\n",
    "        data = np.load(data_dir + dataset + '.npz')\n",
    "\n",
    "        # slice training set into rolling windows\n",
    "        self.rolling_windows = np.lib.stride_tricks.sliding_window_view(\n",
    "            data['test'], self.config['l_win'], axis=0, writeable=True).transpose(0, 2, 1)\n",
    "\n",
    "    def _create_window_mask(self):\n",
    "        \"\"\"Mask out the defined positions.\"\"\"\n",
    "        config = self.config\n",
    "        attn_shape = (1, config['l_win'], self.rolling_windows.shape[-1])\n",
    "        window_mask = np.ones(attn_shape).astype('float')\n",
    "        window_mask[:, config['pre_mask']:config['post_mask'], :] = 0.0\n",
    "        return torch.from_numpy(window_mask)\n",
    "\n",
    "    def mask_input(self):\n",
    "        self.input_mask = self.input_mask.masked_fill(self.input_mask == 0, float(-1e9)).masked_fill(self.input_mask == 1, 0)\n",
    "        self.rolling_windows = np.add(self.rolling_windows, self.input_mask)\n"
   ]
  },
  {
   "cell_type": "code",
   "execution_count": null,
   "id": "82cfe073",
   "metadata": {},
   "outputs": [],
   "source": [
    "data_dir = '../data/scada/'\n",
    "data = np.load(data_dir + config['dataset'] + '.npz')\n",
    "print(data['test'].shape)\n",
    "data.files"
   ]
  },
  {
   "cell_type": "code",
   "execution_count": null,
   "id": "3de7e61e",
   "metadata": {},
   "outputs": [],
   "source": [
    "data['training'].shape"
   ]
  },
  {
   "cell_type": "code",
   "execution_count": null,
   "id": "dd048c42",
   "metadata": {},
   "outputs": [],
   "source": [
    "data['idx_anomaly_test'].shape"
   ]
  },
  {
   "cell_type": "code",
   "execution_count": null,
   "id": "9e0a7f05",
   "metadata": {},
   "outputs": [],
   "source": [
    "rolling_windows = np.lib.stride_tricks.sliding_window_view(\n",
    "            data['test'], config['l_win'], axis=0, writeable=True).transpose(0, 2, 1)"
   ]
  },
  {
   "cell_type": "code",
   "execution_count": null,
   "id": "c8d5e48e",
   "metadata": {},
   "outputs": [],
   "source": [
    "dataset = EvalDataset(config)"
   ]
  },
  {
   "cell_type": "code",
   "execution_count": null,
   "id": "81f8173e",
   "metadata": {},
   "outputs": [],
   "source": [
    "data_loader = create_dataloader(dataset, config)"
   ]
  },
  {
   "cell_type": "code",
   "execution_count": null,
   "id": "8ecc6f57",
   "metadata": {},
   "outputs": [],
   "source": [
    "for i, batch in enumerate(data_loader):\n",
    "    out = model(, src_mask=None)\n",
    "    bre"
   ]
  },
  {
   "cell_type": "code",
   "execution_count": null,
   "id": "63d057e7",
   "metadata": {},
   "outputs": [],
   "source": []
  }
 ],
 "metadata": {
  "kernelspec": {
   "display_name": "Python 3 (ipykernel)",
   "language": "python",
   "name": "python3"
  },
  "language_info": {
   "codemirror_mode": {
    "name": "ipython",
    "version": 3
   },
   "file_extension": ".py",
   "mimetype": "text/x-python",
   "name": "python",
   "nbconvert_exporter": "python",
   "pygments_lexer": "ipython3",
   "version": "3.8.10"
  }
 },
 "nbformat": 4,
 "nbformat_minor": 5
}
