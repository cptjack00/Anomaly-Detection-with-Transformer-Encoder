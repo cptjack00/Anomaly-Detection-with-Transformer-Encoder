{
 "cells": [
  {
   "cell_type": "code",
   "execution_count": 1,
   "id": "d6d4a3e9",
   "metadata": {},
   "outputs": [],
   "source": [
    "import torch\n",
    "import numpy as np\n",
    "from train import create_dataloader\n",
    "from model import make_model\n",
    "from torch.utils.data.dataset import Dataset"
   ]
  },
  {
   "cell_type": "code",
   "execution_count": 2,
   "id": "ae69791d",
   "metadata": {},
   "outputs": [],
   "source": [
    "config = {'dataset': 'scada1_1', 'l_win': 500, 'pre_mask': 200, 'post_mask': 400,\n",
    "          'batch_size': 32, 'shuffle': False, 'dataloader_num_workers': 4, 'num_epoch': 50, 'model_path': '../models/'}"
   ]
  },
  {
   "cell_type": "code",
   "execution_count": 3,
   "id": "a6f3847c",
   "metadata": {},
   "outputs": [
    {
     "data": {
      "text/plain": [
       "AnomalyModel(\n",
       "  (encoder): Encoder(\n",
       "    (layers): ModuleList(\n",
       "      (0): EncoderLayer(\n",
       "        (self_attn): MultiHeadAttention(\n",
       "          (linears): ModuleList(\n",
       "            (0): Linear(in_features=16, out_features=16, bias=True)\n",
       "            (1): Linear(in_features=16, out_features=16, bias=True)\n",
       "            (2): Linear(in_features=16, out_features=16, bias=True)\n",
       "            (3): Linear(in_features=16, out_features=16, bias=True)\n",
       "          )\n",
       "        )\n",
       "        (feed_forward): PositionwiseFeedForward(\n",
       "          (w_1): Linear(in_features=16, out_features=128, bias=True)\n",
       "          (w_2): Linear(in_features=128, out_features=16, bias=True)\n",
       "          (dropout): Dropout(p=0.1, inplace=False)\n",
       "        )\n",
       "        (sublayer): ModuleList(\n",
       "          (0): SublayerConnection(\n",
       "            (norm): LayerNorm((16,), eps=1e-05, elementwise_affine=True)\n",
       "            (dropout): Dropout(p=0.1, inplace=False)\n",
       "          )\n",
       "          (1): SublayerConnection(\n",
       "            (norm): LayerNorm((16,), eps=1e-05, elementwise_affine=True)\n",
       "            (dropout): Dropout(p=0.1, inplace=False)\n",
       "          )\n",
       "        )\n",
       "      )\n",
       "      (1): EncoderLayer(\n",
       "        (self_attn): MultiHeadAttention(\n",
       "          (linears): ModuleList(\n",
       "            (0): Linear(in_features=16, out_features=16, bias=True)\n",
       "            (1): Linear(in_features=16, out_features=16, bias=True)\n",
       "            (2): Linear(in_features=16, out_features=16, bias=True)\n",
       "            (3): Linear(in_features=16, out_features=16, bias=True)\n",
       "          )\n",
       "        )\n",
       "        (feed_forward): PositionwiseFeedForward(\n",
       "          (w_1): Linear(in_features=16, out_features=128, bias=True)\n",
       "          (w_2): Linear(in_features=128, out_features=16, bias=True)\n",
       "          (dropout): Dropout(p=0.1, inplace=False)\n",
       "        )\n",
       "        (sublayer): ModuleList(\n",
       "          (0): SublayerConnection(\n",
       "            (norm): LayerNorm((16,), eps=1e-05, elementwise_affine=True)\n",
       "            (dropout): Dropout(p=0.1, inplace=False)\n",
       "          )\n",
       "          (1): SublayerConnection(\n",
       "            (norm): LayerNorm((16,), eps=1e-05, elementwise_affine=True)\n",
       "            (dropout): Dropout(p=0.1, inplace=False)\n",
       "          )\n",
       "        )\n",
       "      )\n",
       "      (2): EncoderLayer(\n",
       "        (self_attn): MultiHeadAttention(\n",
       "          (linears): ModuleList(\n",
       "            (0): Linear(in_features=16, out_features=16, bias=True)\n",
       "            (1): Linear(in_features=16, out_features=16, bias=True)\n",
       "            (2): Linear(in_features=16, out_features=16, bias=True)\n",
       "            (3): Linear(in_features=16, out_features=16, bias=True)\n",
       "          )\n",
       "        )\n",
       "        (feed_forward): PositionwiseFeedForward(\n",
       "          (w_1): Linear(in_features=16, out_features=128, bias=True)\n",
       "          (w_2): Linear(in_features=128, out_features=16, bias=True)\n",
       "          (dropout): Dropout(p=0.1, inplace=False)\n",
       "        )\n",
       "        (sublayer): ModuleList(\n",
       "          (0): SublayerConnection(\n",
       "            (norm): LayerNorm((16,), eps=1e-05, elementwise_affine=True)\n",
       "            (dropout): Dropout(p=0.1, inplace=False)\n",
       "          )\n",
       "          (1): SublayerConnection(\n",
       "            (norm): LayerNorm((16,), eps=1e-05, elementwise_affine=True)\n",
       "            (dropout): Dropout(p=0.1, inplace=False)\n",
       "          )\n",
       "        )\n",
       "      )\n",
       "      (3): EncoderLayer(\n",
       "        (self_attn): MultiHeadAttention(\n",
       "          (linears): ModuleList(\n",
       "            (0): Linear(in_features=16, out_features=16, bias=True)\n",
       "            (1): Linear(in_features=16, out_features=16, bias=True)\n",
       "            (2): Linear(in_features=16, out_features=16, bias=True)\n",
       "            (3): Linear(in_features=16, out_features=16, bias=True)\n",
       "          )\n",
       "        )\n",
       "        (feed_forward): PositionwiseFeedForward(\n",
       "          (w_1): Linear(in_features=16, out_features=128, bias=True)\n",
       "          (w_2): Linear(in_features=128, out_features=16, bias=True)\n",
       "          (dropout): Dropout(p=0.1, inplace=False)\n",
       "        )\n",
       "        (sublayer): ModuleList(\n",
       "          (0): SublayerConnection(\n",
       "            (norm): LayerNorm((16,), eps=1e-05, elementwise_affine=True)\n",
       "            (dropout): Dropout(p=0.1, inplace=False)\n",
       "          )\n",
       "          (1): SublayerConnection(\n",
       "            (norm): LayerNorm((16,), eps=1e-05, elementwise_affine=True)\n",
       "            (dropout): Dropout(p=0.1, inplace=False)\n",
       "          )\n",
       "        )\n",
       "      )\n",
       "      (4): EncoderLayer(\n",
       "        (self_attn): MultiHeadAttention(\n",
       "          (linears): ModuleList(\n",
       "            (0): Linear(in_features=16, out_features=16, bias=True)\n",
       "            (1): Linear(in_features=16, out_features=16, bias=True)\n",
       "            (2): Linear(in_features=16, out_features=16, bias=True)\n",
       "            (3): Linear(in_features=16, out_features=16, bias=True)\n",
       "          )\n",
       "        )\n",
       "        (feed_forward): PositionwiseFeedForward(\n",
       "          (w_1): Linear(in_features=16, out_features=128, bias=True)\n",
       "          (w_2): Linear(in_features=128, out_features=16, bias=True)\n",
       "          (dropout): Dropout(p=0.1, inplace=False)\n",
       "        )\n",
       "        (sublayer): ModuleList(\n",
       "          (0): SublayerConnection(\n",
       "            (norm): LayerNorm((16,), eps=1e-05, elementwise_affine=True)\n",
       "            (dropout): Dropout(p=0.1, inplace=False)\n",
       "          )\n",
       "          (1): SublayerConnection(\n",
       "            (norm): LayerNorm((16,), eps=1e-05, elementwise_affine=True)\n",
       "            (dropout): Dropout(p=0.1, inplace=False)\n",
       "          )\n",
       "        )\n",
       "      )\n",
       "      (5): EncoderLayer(\n",
       "        (self_attn): MultiHeadAttention(\n",
       "          (linears): ModuleList(\n",
       "            (0): Linear(in_features=16, out_features=16, bias=True)\n",
       "            (1): Linear(in_features=16, out_features=16, bias=True)\n",
       "            (2): Linear(in_features=16, out_features=16, bias=True)\n",
       "            (3): Linear(in_features=16, out_features=16, bias=True)\n",
       "          )\n",
       "        )\n",
       "        (feed_forward): PositionwiseFeedForward(\n",
       "          (w_1): Linear(in_features=16, out_features=128, bias=True)\n",
       "          (w_2): Linear(in_features=128, out_features=16, bias=True)\n",
       "          (dropout): Dropout(p=0.1, inplace=False)\n",
       "        )\n",
       "        (sublayer): ModuleList(\n",
       "          (0): SublayerConnection(\n",
       "            (norm): LayerNorm((16,), eps=1e-05, elementwise_affine=True)\n",
       "            (dropout): Dropout(p=0.1, inplace=False)\n",
       "          )\n",
       "          (1): SublayerConnection(\n",
       "            (norm): LayerNorm((16,), eps=1e-05, elementwise_affine=True)\n",
       "            (dropout): Dropout(p=0.1, inplace=False)\n",
       "          )\n",
       "        )\n",
       "      )\n",
       "    )\n",
       "    (norm): LayerNorm((16,), eps=1e-05, elementwise_affine=True)\n",
       "  )\n",
       "  (src_embed): Sequential(\n",
       "    (0): PositionalEncoding(\n",
       "      (dropout): Dropout(p=0.1, inplace=False)\n",
       "    )\n",
       "  )\n",
       ")"
      ]
     },
     "execution_count": 3,
     "metadata": {},
     "output_type": "execute_result"
    }
   ],
   "source": [
    "model = make_model(N=6, d_model=16, l_win=config['l_win'], d_ff=128, h=1, dropout=0.1).float()\n",
    "model.load_state_dict(torch.load(config['model_path'] + \"best_train_49.pth\"))\n",
    "model.eval()"
   ]
  },
  {
   "cell_type": "code",
   "execution_count": 4,
   "id": "7567d57a",
   "metadata": {},
   "outputs": [],
   "source": [
    "class EvalDataset(Dataset):\n",
    "    def __init__(self, config):\n",
    "        super().__init__()\n",
    "        self.config = config\n",
    "        self.load_dataset(self.config['dataset'])\n",
    "        self.input_mask = self._create_window_mask()\n",
    "\n",
    "    def __len__(self):\n",
    "        return self.rolling_windows.shape[0]\n",
    "\n",
    "    def __getitem__(self, index):\n",
    "        input = self.rolling_windows[index, :, :]\n",
    "        sample = {\"input\": input, \"target\": input}\n",
    "        return sample\n",
    "\n",
    "    def load_dataset(self, dataset):\n",
    "        data_dir = '../data/scada/'\n",
    "        data = np.load(data_dir + dataset + '.npz')\n",
    "\n",
    "        # slice training set into rolling windows\n",
    "        self.rolling_windows = np.lib.stride_tricks.sliding_window_view(\n",
    "            data['test'], self.config['l_win'], axis=0, writeable=True).transpose(0, 2, 1)\n",
    "        self.idx_anomaly = data['idx_anomaly_test']\n",
    "\n",
    "    def _create_window_mask(self):\n",
    "        \"\"\"Mask out the defined positions.\"\"\"\n",
    "        config = self.config\n",
    "        attn_shape = (1, config['l_win'], self.rolling_windows.shape[-1])\n",
    "        window_mask = np.ones(attn_shape).astype('float')\n",
    "        window_mask[:, config['pre_mask']:config['post_mask'], :] = 0.0\n",
    "        return torch.from_numpy(window_mask)\n",
    "\n",
    "    def mask_input(self):\n",
    "        self.input_mask = self.input_mask.masked_fill(self.input_mask == 0, float(-1e9)).masked_fill(self.input_mask == 1, 0)\n",
    "        self.rolling_windows = np.add(self.rolling_windows, self.input_mask)\n"
   ]
  },
  {
   "cell_type": "code",
   "execution_count": 5,
   "id": "8d94d3ae",
   "metadata": {},
   "outputs": [],
   "source": [
    "dataset = EvalDataset(config)\n",
    "data_loader = create_dataloader(dataset, config)"
   ]
  },
  {
   "cell_type": "code",
   "execution_count": 11,
   "id": "8ecc6f57",
   "metadata": {},
   "outputs": [],
   "source": [
    "out = None\n",
    "batch = None\n",
    "for i, batch in enumerate(data_loader):\n",
    "    out = model(batch['input'].float(), src_mask=None)\n",
    "    break"
   ]
  },
  {
   "cell_type": "code",
   "execution_count": 12,
   "id": "301e8b78",
   "metadata": {},
   "outputs": [
    {
     "data": {
      "text/plain": [
       "array([    3,     7,    11, ..., 68654, 68655, 68656], dtype=int32)"
      ]
     },
     "execution_count": 12,
     "metadata": {},
     "output_type": "execute_result"
    }
   ],
   "source": [
    "dataset.idx_anomaly"
   ]
  },
  {
   "cell_type": "code",
   "execution_count": 15,
   "id": "63d057e7",
   "metadata": {},
   "outputs": [
    {
     "data": {
      "text/plain": [
       "tensor([[-0.0137,  0.2678,  1.6481,  0.8937,  0.1164,  0.5641, -0.0039,  0.6076,\n",
       "         -0.1399, -0.6196,  0.7190, -0.6854, -0.9136, -0.0536, -0.2680,  0.9978],\n",
       "        [-0.0137,  0.2678, -0.8239,  0.8937,  0.1164,  0.5641, -0.0039,  0.6076,\n",
       "         -0.1399, -0.6196,  0.7190, -0.6854, -0.9136, -0.0536,  0.9602, -1.0022],\n",
       "        [-0.0137, -0.4738, -0.8239,  0.8937,  0.1164,  0.5641, -0.0039,  0.6076,\n",
       "         -0.1399, -0.6196,  0.7190, -0.6854, -0.9136, -0.0536, -0.8262,  0.9978]],\n",
       "       dtype=torch.float64)"
      ]
     },
     "execution_count": 15,
     "metadata": {},
     "output_type": "execute_result"
    }
   ],
   "source": [
    "batch['input'][3, 200:203, :]"
   ]
  },
  {
   "cell_type": "code",
   "execution_count": null,
   "id": "c33b14f2",
   "metadata": {},
   "outputs": [],
   "source": [
    "batch['target']"
   ]
  }
 ],
 "metadata": {
  "kernelspec": {
   "display_name": "Python 3 (ipykernel)",
   "language": "python",
   "name": "python3"
  },
  "language_info": {
   "codemirror_mode": {
    "name": "ipython",
    "version": 3
   },
   "file_extension": ".py",
   "mimetype": "text/x-python",
   "name": "python",
   "nbconvert_exporter": "python",
   "pygments_lexer": "ipython3",
   "version": "3.8.10"
  }
 },
 "nbformat": 4,
 "nbformat_minor": 5
}
