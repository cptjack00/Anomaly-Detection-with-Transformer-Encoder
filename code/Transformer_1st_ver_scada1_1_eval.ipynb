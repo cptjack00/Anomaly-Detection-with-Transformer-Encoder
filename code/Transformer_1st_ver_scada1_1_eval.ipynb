{
 "cells": [
  {
   "cell_type": "code",
   "execution_count": 111,
   "id": "d6d4a3e9",
   "metadata": {},
   "outputs": [],
   "source": [
    "import torch\n",
    "import numpy as np\n",
    "from train import create_dataloader\n",
    "from model import make_model\n",
    "from data_loader import CustomDataset"
   ]
  },
  {
   "cell_type": "code",
   "execution_count": 112,
   "id": "ae69791d",
   "metadata": {},
   "outputs": [],
   "source": [
    "config = {"dataset": "scada1_1", "l_win": 200, "pre_mask": 80, "post_mask": 120,\n",
    "          "batch_size": 64, "shuffle": True, "dataloader_num_workers": 10, "num_epoch": 100, "model_path": "../models/", "data_dir": "./"}"
   ]
  },
  {
   "cell_type": "code",
   "execution_count": 113,
   "id": "a6f3847c",
   "metadata": {},
   "outputs": [
    {
     "data": {
      "text/plain": [
       "AnomalyModel(\n",
       "  (encoder): Encoder(\n",
       "    (layers): ModuleList(\n",
       "      (0): EncoderLayer(\n",
       "        (self_attn): MultiHeadAttention(\n",
       "          (linears): ModuleList(\n",
       "            (0): Linear(in_features=16, out_features=16, bias=True)\n",
       "            (1): Linear(in_features=16, out_features=16, bias=True)\n",
       "            (2): Linear(in_features=16, out_features=16, bias=True)\n",
       "            (3): Linear(in_features=16, out_features=16, bias=True)\n",
       "          )\n",
       "        )\n",
       "        (feed_forward): PositionwiseFeedForward(\n",
       "          (w_1): Linear(in_features=16, out_features=128, bias=True)\n",
       "          (w_2): Linear(in_features=128, out_features=16, bias=True)\n",
       "          (dropout): Dropout(p=0.1, inplace=False)\n",
       "        )\n",
       "        (sublayer): ModuleList(\n",
       "          (0): SublayerConnection(\n",
       "            (norm): LayerNorm((16,), eps=1e-05, elementwise_affine=True)\n",
       "            (dropout): Dropout(p=0.1, inplace=False)\n",
       "          )\n",
       "          (1): SublayerConnection(\n",
       "            (norm): LayerNorm((16,), eps=1e-05, elementwise_affine=True)\n",
       "            (dropout): Dropout(p=0.1, inplace=False)\n",
       "          )\n",
       "        )\n",
       "      )\n",
       "      (1): EncoderLayer(\n",
       "        (self_attn): MultiHeadAttention(\n",
       "          (linears): ModuleList(\n",
       "            (0): Linear(in_features=16, out_features=16, bias=True)\n",
       "            (1): Linear(in_features=16, out_features=16, bias=True)\n",
       "            (2): Linear(in_features=16, out_features=16, bias=True)\n",
       "            (3): Linear(in_features=16, out_features=16, bias=True)\n",
       "          )\n",
       "        )\n",
       "        (feed_forward): PositionwiseFeedForward(\n",
       "          (w_1): Linear(in_features=16, out_features=128, bias=True)\n",
       "          (w_2): Linear(in_features=128, out_features=16, bias=True)\n",
       "          (dropout): Dropout(p=0.1, inplace=False)\n",
       "        )\n",
       "        (sublayer): ModuleList(\n",
       "          (0): SublayerConnection(\n",
       "            (norm): LayerNorm((16,), eps=1e-05, elementwise_affine=True)\n",
       "            (dropout): Dropout(p=0.1, inplace=False)\n",
       "          )\n",
       "          (1): SublayerConnection(\n",
       "            (norm): LayerNorm((16,), eps=1e-05, elementwise_affine=True)\n",
       "            (dropout): Dropout(p=0.1, inplace=False)\n",
       "          )\n",
       "        )\n",
       "      )\n",
       "      (2): EncoderLayer(\n",
       "        (self_attn): MultiHeadAttention(\n",
       "          (linears): ModuleList(\n",
       "            (0): Linear(in_features=16, out_features=16, bias=True)\n",
       "            (1): Linear(in_features=16, out_features=16, bias=True)\n",
       "            (2): Linear(in_features=16, out_features=16, bias=True)\n",
       "            (3): Linear(in_features=16, out_features=16, bias=True)\n",
       "          )\n",
       "        )\n",
       "        (feed_forward): PositionwiseFeedForward(\n",
       "          (w_1): Linear(in_features=16, out_features=128, bias=True)\n",
       "          (w_2): Linear(in_features=128, out_features=16, bias=True)\n",
       "          (dropout): Dropout(p=0.1, inplace=False)\n",
       "        )\n",
       "        (sublayer): ModuleList(\n",
       "          (0): SublayerConnection(\n",
       "            (norm): LayerNorm((16,), eps=1e-05, elementwise_affine=True)\n",
       "            (dropout): Dropout(p=0.1, inplace=False)\n",
       "          )\n",
       "          (1): SublayerConnection(\n",
       "            (norm): LayerNorm((16,), eps=1e-05, elementwise_affine=True)\n",
       "            (dropout): Dropout(p=0.1, inplace=False)\n",
       "          )\n",
       "        )\n",
       "      )\n",
       "      (3): EncoderLayer(\n",
       "        (self_attn): MultiHeadAttention(\n",
       "          (linears): ModuleList(\n",
       "            (0): Linear(in_features=16, out_features=16, bias=True)\n",
       "            (1): Linear(in_features=16, out_features=16, bias=True)\n",
       "            (2): Linear(in_features=16, out_features=16, bias=True)\n",
       "            (3): Linear(in_features=16, out_features=16, bias=True)\n",
       "          )\n",
       "        )\n",
       "        (feed_forward): PositionwiseFeedForward(\n",
       "          (w_1): Linear(in_features=16, out_features=128, bias=True)\n",
       "          (w_2): Linear(in_features=128, out_features=16, bias=True)\n",
       "          (dropout): Dropout(p=0.1, inplace=False)\n",
       "        )\n",
       "        (sublayer): ModuleList(\n",
       "          (0): SublayerConnection(\n",
       "            (norm): LayerNorm((16,), eps=1e-05, elementwise_affine=True)\n",
       "            (dropout): Dropout(p=0.1, inplace=False)\n",
       "          )\n",
       "          (1): SublayerConnection(\n",
       "            (norm): LayerNorm((16,), eps=1e-05, elementwise_affine=True)\n",
       "            (dropout): Dropout(p=0.1, inplace=False)\n",
       "          )\n",
       "        )\n",
       "      )\n",
       "      (4): EncoderLayer(\n",
       "        (self_attn): MultiHeadAttention(\n",
       "          (linears): ModuleList(\n",
       "            (0): Linear(in_features=16, out_features=16, bias=True)\n",
       "            (1): Linear(in_features=16, out_features=16, bias=True)\n",
       "            (2): Linear(in_features=16, out_features=16, bias=True)\n",
       "            (3): Linear(in_features=16, out_features=16, bias=True)\n",
       "          )\n",
       "        )\n",
       "        (feed_forward): PositionwiseFeedForward(\n",
       "          (w_1): Linear(in_features=16, out_features=128, bias=True)\n",
       "          (w_2): Linear(in_features=128, out_features=16, bias=True)\n",
       "          (dropout): Dropout(p=0.1, inplace=False)\n",
       "        )\n",
       "        (sublayer): ModuleList(\n",
       "          (0): SublayerConnection(\n",
       "            (norm): LayerNorm((16,), eps=1e-05, elementwise_affine=True)\n",
       "            (dropout): Dropout(p=0.1, inplace=False)\n",
       "          )\n",
       "          (1): SublayerConnection(\n",
       "            (norm): LayerNorm((16,), eps=1e-05, elementwise_affine=True)\n",
       "            (dropout): Dropout(p=0.1, inplace=False)\n",
       "          )\n",
       "        )\n",
       "      )\n",
       "      (5): EncoderLayer(\n",
       "        (self_attn): MultiHeadAttention(\n",
       "          (linears): ModuleList(\n",
       "            (0): Linear(in_features=16, out_features=16, bias=True)\n",
       "            (1): Linear(in_features=16, out_features=16, bias=True)\n",
       "            (2): Linear(in_features=16, out_features=16, bias=True)\n",
       "            (3): Linear(in_features=16, out_features=16, bias=True)\n",
       "          )\n",
       "        )\n",
       "        (feed_forward): PositionwiseFeedForward(\n",
       "          (w_1): Linear(in_features=16, out_features=128, bias=True)\n",
       "          (w_2): Linear(in_features=128, out_features=16, bias=True)\n",
       "          (dropout): Dropout(p=0.1, inplace=False)\n",
       "        )\n",
       "        (sublayer): ModuleList(\n",
       "          (0): SublayerConnection(\n",
       "            (norm): LayerNorm((16,), eps=1e-05, elementwise_affine=True)\n",
       "            (dropout): Dropout(p=0.1, inplace=False)\n",
       "          )\n",
       "          (1): SublayerConnection(\n",
       "            (norm): LayerNorm((16,), eps=1e-05, elementwise_affine=True)\n",
       "            (dropout): Dropout(p=0.1, inplace=False)\n",
       "          )\n",
       "        )\n",
       "      )\n",
       "    )\n",
       "    (norm): LayerNorm((16,), eps=1e-05, elementwise_affine=True)\n",
       "  )\n",
       "  (src_embed): Sequential(\n",
       "    (0): PositionalEncoding(\n",
       "      (dropout): Dropout(p=0.1, inplace=False)\n",
       "    )\n",
       "  )\n",
       "  (linear): Linear(in_features=16, out_features=16, bias=True)\n",
       ")"
      ]
     },
     "execution_count": 113,
     "metadata": {},
     "output_type": "execute_result"
    }
   ],
   "source": [
    "model = make_model(N=6, d_model=16, l_win=config["l_win"], d_ff=128, h=1, dropout=0.1).float()\n",
    "model.load_state_dict(torch.load(config["model_path"] + \"best_train_46.pth\"))\n",
    "model.eval()"
   ]
  },
  {
   "cell_type": "code",
   "execution_count": 114,
   "id": "8d94d3ae",
   "metadata": {},
   "outputs": [],
   "source": [
    "dataset = CustomDataset(config, train=True)\n",
    "data_loader = create_dataloader(dataset, config)"
   ]
  },
  {
   "cell_type": "code",
   "execution_count": 115,
   "id": "8ecc6f57",
   "metadata": {},
   "outputs": [
    {
     "name": "stderr",
     "output_type": "stream",
     "text": [
      "/home/fil-server/miniconda3/envs/torch/lib/python3.8/site-packages/torch/nn/modules/loss.py:528: UserWarning: Using a target size (torch.Size([200, 16])) that is different to the input size (torch.Size([40, 16])). This will likely lead to incorrect results due to broadcasting. Please ensure they have the same size.\n",
      "  return F.mse_loss(input, target, reduction=self.reduction)\n"
     ]
    }
   ],
   "source": [
    "out = None\n",
    "batch = None\n",
    "loss = torch.nn.MSELoss()\n",
    "n_test = dataset.rolling_windows.shape[0]\n",
    "recon_loss = np.zeros(n_test)\n",
    "for i, batch in enumerate(data_loader):\n",
    "    out = model(batch["input"].float(), src_mask=None)\n",
    "    for j in range(config["batch_size"]):\n",
    "        try:\n",
    "            recon_loss[i * config["batch_size"] + j] = loss(out[j, config["pre_mask"]:config["post_mask"], :], batch["target"][j, :, :])\n",
    "        except:\n",
    "            pass    "
   ]
  },
  {
   "cell_type": "code",
   "execution_count": 12,
   "id": "164d11df",
   "metadata": {},
   "outputs": [],
   "source": [
    "idx_anomaly_test = dataset.data["idx_anomaly_test"]\n",
    "anomaly_index = []\n",
    "test_labels = np.zeros(n_test)\n",
    "for i in range(len(idx_anomaly_test)):\n",
    "    idx_start = idx_anomaly_test[i] - (config["l_win"] + 1)\n",
    "    idx_end = idx_anomaly_test[i] + (config["l_win"] + 1)\n",
    "    if idx_start < 0:\n",
    "        idx_start = 0\n",
    "    if idx_end > n_test:\n",
    "        idx_end = n_test\n",
    "    anomaly_index.append(np.arange(idx_start, idx_end))\n",
    "    test_labels[idx_start:idx_end] = 1"
   ]
  },
  {
   "cell_type": "code",
   "execution_count": 13,
   "id": "cb0d5a4e",
   "metadata": {},
   "outputs": [
    {
     "name": "stdout",
     "output_type": "stream",
     "text": [
      "(68459,)\n",
      "(68658, 16)\n",
      "(68459, 200, 16)\n"
     ]
    },
    {
     "data": {
      "text/plain": [
       "array([0.24432475, 0.25012667, 1.01538277, ..., 0.49795333, 0.2350491 ,\n",
       "       0.28273347])"
      ]
     },
     "execution_count": 13,
     "metadata": {},
     "output_type": "execute_result"
    }
   ],
   "source": [
    "print(recon_loss.shape)\n",
    "print(dataset.data["test"].shape)\n",
    "print(dataset.rolling_windows.shape)\n",
    "recon_loss"
   ]
  },
  {
   "cell_type": "code",
   "execution_count": 14,
   "id": "c5f0d886",
   "metadata": {},
   "outputs": [],
   "source": [
    "def return_anomaly_idx_by_threshold(test_anomaly_metric, threshold):\n",
    "    test_list = np.squeeze(np.ndarray.flatten(test_anomaly_metric))\n",
    "    idx_error = np.squeeze(np.argwhere(test_anomaly_metric > threshold))\n",
    "    \n",
    "    if len(idx_error.shape) == 0:\n",
    "        idx_error = np.expand_dims(idx_error, 0)\n",
    "    \n",
    "    return list(idx_error)"
   ]
  },
  {
   "cell_type": "code",
   "execution_count": 15,
   "id": "31f4eb8d",
   "metadata": {},
   "outputs": [],
   "source": [
    "def augment_detected_idx(idx_detected_anomaly, anomaly_index):\n",
    "    n_anomaly = len(anomaly_index)\n",
    "    idx_detected_anomaly_extended = list(idx_detected_anomaly)\n",
    "    for i in range(n_anomaly):\n",
    "        #print(idx_detected_anomaly)\n",
    "        for j in idx_detected_anomaly:\n",
    "            if j in anomaly_index[i]:\n",
    "                in_original_detection = set(idx_detected_anomaly_extended)\n",
    "                currect_anomaly_win = set(anomaly_index[i])\n",
    "                idx_detected_anomaly_extended = idx_detected_anomaly_extended + list(currect_anomaly_win - in_original_detection)\n",
    "                #print(j)\n",
    "                break\n",
    "                \n",
    "    return list(np.sort(idx_detected_anomaly_extended))"
   ]
  },
  {
   "cell_type": "code",
   "execution_count": 16,
   "id": "60fa6688",
   "metadata": {},
   "outputs": [],
   "source": [
    "def count_TP_FP_FN(idx_detected_anomaly, anomaly_index, test_labels):\n",
    "    n_TP = 0\n",
    "    n_FP = 0\n",
    "    #n_detection = len(idx_detected_anomaly)\n",
    "    #for i in range(n_detection):\n",
    "    for i in idx_detected_anomaly:    \n",
    "        #if test_labels[idx_detected_anomaly[i]] == 1:\n",
    "        if test_labels[i] == 1:    \n",
    "            n_TP = n_TP + 1\n",
    "        else:\n",
    "            n_FP = n_FP + 1 #both branch the same?\n",
    "    \n",
    "    idx_undetected = list(set(np.arange(len(test_labels)))- set(idx_detected_anomaly))\n",
    "    n_FN = 0\n",
    "    for i in idx_undetected:\n",
    "        if test_labels[i] == 1:\n",
    "            n_FN = n_FN + 1\n",
    "    n_TN = len(test_labels) - n_TP - n_FP - n_FN\n",
    "    return n_TP, n_FP, n_FN, n_TN"
   ]
  },
  {
   "cell_type": "code",
   "execution_count": 17,
   "id": "d3953f28",
   "metadata": {},
   "outputs": [],
   "source": [
    "def compute_precision_and_recall(idx_detected_anomaly, anomaly_index, test_labels):\n",
    "    # compute true positive\n",
    "    n_TP, n_FP, n_FN, n_TN = count_TP_FP_FN(idx_detected_anomaly, anomaly_index, test_labels)\n",
    "    \n",
    "    if n_TP + n_FP == 0:\n",
    "        precision = 1\n",
    "    else:\n",
    "        precision = n_TP / (n_TP + n_FP)\n",
    "    recall = n_TP / (n_TP + n_FN)\n",
    "    if precision + recall == 0:\n",
    "        F1 = 0\n",
    "    else:\n",
    "        F1 = 2* (precision * recall)/(precision + recall)\n",
    "    fpr = n_FP/(n_FP + n_TN)    \n",
    "    \n",
    "    return precision, recall, F1, fpr, n_TP, n_FP, n_FN"
   ]
  },
  {
   "cell_type": "code",
   "execution_count": 18,
   "id": "effde3ef",
   "metadata": {},
   "outputs": [],
   "source": [
    "import math\n",
    "from scipy.stats import norm\n",
    "\n",
    "def KQp(data,q):\n",
    "#UNTITLED3 Summary of this function goes here\n",
    "#   Detailed explanation goes here\n",
    "    data2 = np.sort(data) #sap xep tang dan\n",
    "    n = np.shape(data2)[0] #kich thuoc\n",
    "    p = 1-q #q tu xet, dat bang smth 0.05 0.025 0.01\n",
    "    h = math.sqrt((p*q)/(n+1));\n",
    "    KQ=0;\n",
    "    for i in range(1,n+1):\n",
    "        a= ((i/n)-p)/h;\n",
    "        b= (((i-1)/n)-p)/h;\n",
    "        TP=(norm.cdf(a)-norm.cdf(b))*data2[i-1]; #normcdf thu trong matlab\n",
    "        KQ=KQ+TP;    \n",
    "    #KQp = KQ;\n",
    "    return KQ\n",
    "\n",
    "# for i in [0.99, 0.95, 0.9, 0.85, 0.8, 0.7, 0.6, 0.5, 0.4, 0.3, 0.2, 0.1]:\n",
    "#     print(\"KQp is:\", KQp(recon_loss,i),\"with q =\",i)\n"
   ]
  },
  {
   "cell_type": "code",
   "execution_count": 19,
   "id": "f060fd8a",
   "metadata": {},
   "outputs": [
    {
     "name": "stdout",
     "output_type": "stream",
     "text": [
      "threshold list: [4.29628868e+02 4.11733853e+02 3.93838837e+02 3.75943822e+02\n",
      " 3.58048806e+02 3.40153791e+02 3.22258775e+02 3.04363759e+02\n",
      " 2.86468744e+02 2.68573728e+02 2.50678713e+02 2.32783697e+02\n",
      " 2.14888682e+02 1.96993666e+02 1.79098650e+02 1.61203635e+02\n",
      " 1.43308619e+02 1.25413604e+02 1.07518588e+02 8.96235726e+01\n",
      " 7.17285570e+01 5.38335415e+01 3.59385259e+01 1.80435103e+01\n",
      " 1.48494768e-01]\n"
     ]
    }
   ],
   "source": [
    "n_threshold = 25\n",
    "precision = np.zeros(n_threshold)\n",
    "recall = np.zeros(n_threshold)\n",
    "F1 = np.zeros(n_threshold)\n",
    "precision_aug = np.zeros(n_threshold)\n",
    "recall_aug = np.zeros(n_threshold)\n",
    "F1_aug = np.zeros(n_threshold)\n",
    "fpr_aug = np.zeros(n_threshold)\n",
    "i = 0\n",
    "threshold_list = np.linspace(np.amin(recon_loss), np.amax(recon_loss), n_threshold, endpoint=True)\n",
    "threshold_list = np.flip(threshold_list)\n",
    "for threshold in threshold_list:\n",
    "    #print(threshold_list[i])\n",
    "    idx_detection = return_anomaly_idx_by_threshold(recon_loss, threshold)\n",
    "    precision[i], recall[i], F1[i], _, _, _, _ = compute_precision_and_recall(idx_detection, \n",
    "                                                                           anomaly_index, \n",
    "                                                                           test_labels)\n",
    "    # augment the detection using the ground truth labels\n",
    "    # a method to discount the factor one anomaly appears in multiple consecutive windows\n",
    "    # introduced in \"Unsupervised anomaly detection via variational auto-encoder for seasonal kpis in web applications\"\n",
    "    idx_detection_augmented = augment_detected_idx(idx_detection, anomaly_index)\n",
    "    precision_aug[i], recall_aug[i], F1_aug[i], fpr_aug[i], _, _, _ = compute_precision_and_recall(idx_detection_augmented, \n",
    "                                                                                       anomaly_index, \n",
    "                                                                                       test_labels)\n",
    "    i = i + 1\n",
    "    #print(precision, recall, F1)    \n",
    "    \n",
    "print("threshold list:",threshold_list)"
   ]
  },
  {
   "cell_type": "code",
   "execution_count": 20,
   "id": "420a4e99",
   "metadata": {},
   "outputs": [
    {
     "name": "stdout",
     "output_type": "stream",
     "text": [
      "Best F1 score is 0.9846719712868276\n",
      "Best threshold is 0.14849476763861139\n",
      "At this threshold, precision is 0.9698209120920857, recall is 0.9999849381711927\n",
      "Average precision is 0.9698220339214864\n",
      "\n",
      "Augmented detection:\n",
      "Best F1 score is 0.9846795004894254\n",
      "Best threshold is 0.14849476763861139\n",
      "At this threshold, precision is 0.9698213529265692, recall is 1.0\n",
      "Average precision is 0.9945080633523521\n"
     ]
    }
   ],
   "source": [
    "print(\"Best F1 score is {}\".format(np.amax(F1)))\n",
    "idx_best_threshold = np.squeeze(np.argwhere(F1 == np.amax(F1)))\n",
    "print(\"Best threshold is {}\".format(threshold_list[idx_best_threshold]))\n",
    "print(\"At this threshold, precision is {}, recall is {}\".format(precision[idx_best_threshold], recall[idx_best_threshold]))\n",
    "average_precision = np.sum(precision[1:] * (recall[1:] - recall[:-1]))\n",
    "print(\"Average precision is {}\".format(average_precision))\n",
    "\n",
    "print(\"\\nAugmented detection:\")\n",
    "print(\"Best F1 score is {}\".format(np.amax(F1_aug)))\n",
    "idx_best_threshold = np.squeeze(np.argwhere(F1_aug == np.amax(F1_aug)))\n",
    "print(\"Best threshold is {}\".format(threshold_list[idx_best_threshold]))\n",
    "best_thres = np.min(threshold_list[idx_best_threshold])\n",
    "print(\"At this threshold, precision is {}, recall is {}\".format(precision_aug[idx_best_threshold], \n",
    "                                                                recall_aug[idx_best_threshold]))\n",
    "\n",
    "average_precision_aug = np.sum(precision_aug[1:] * (recall_aug[1:] - recall_aug[:-1]))\n",
    "print(\"Average precision is {}\".format(average_precision_aug))"
   ]
  },
  {
   "cell_type": "code",
   "execution_count": 21,
   "id": "9318dcf9",
   "metadata": {},
   "outputs": [
    {
     "name": "stdout",
     "output_type": "stream",
     "text": [
      "Closest KQp threshold is 0.17105178482016375 at q = 0.99\n",
      "\n",
      "PR evaluation using KQE:\n",
      "Precision: 0.9701756436858872\n",
      "Recall: 1.0\n",
      "F1: 0.9848620825205635\n",
      "TP: 66393\n",
      "FP: 2041\n",
      "FN: 0\n",
      "\n",
      "Threshold is 0.14849476763861139\n",
      "\n",
      "PR evaluation using augmented detection:\n",
      "Precision: 0.9698213529265692\n",
      "Recall: 1.0\n",
      "F1: 0.9846795004894254\n",
      "TP: 66393\n",
      "FP: 2066\n"
     ]
    }
   ],
   "source": [
    "# Now select a threshold\n",
    "threshold = best_thres\n",
    "q_list = [0.99, 0.95, 0.9, 0.85, 0.8, 0.7, 0.6, 0.5, 0.4, 0.3, 0.2, 0.1]\n",
    "temp = math.inf\n",
    "q_best = 0\n",
    "closest_thres = 0\n",
    "for q in q_list:\n",
    "    temp_thres = KQp(recon_loss, q)\n",
    "    #print(temp_thres,abs(temp_thres - threshold))\n",
    "    if abs(temp_thres - threshold) < temp:\n",
    "        temp = abs(temp_thres - threshold)\n",
    "        q_best = q\n",
    "        KQp_thres = temp_thres\n",
    "    \n",
    "print(\"Closest KQp threshold is {} at q = {}\".format(KQp_thres,q_best))\n",
    "idx_detection = return_anomaly_idx_by_threshold(recon_loss, KQp_thres)\n",
    "#print(idx_detection)\n",
    "idx_detection_augmented = augment_detected_idx(idx_detection, anomaly_index)\n",
    "#print(anomaly_index_lstm)\n",
    "#print(idx_detection_augmented)\n",
    "precision, recall, F1, _, n_TP, n_FP, n_FN = compute_precision_and_recall(idx_detection_augmented, \n",
    "                                                                       anomaly_index, \n",
    "                                                                       test_labels)\n",
    "print(\"\\nPR evaluation using KQE:\")\n",
    "print(\"Precision: {}\".format(precision))\n",
    "print(\"Recall: {}\".format(recall))\n",
    "print(\"F1: {}\".format(F1))\n",
    "print(\"TP: {}\".format(n_TP))\n",
    "print(\"FP: {}\".format(n_FP))\n",
    "print(\"FN: {}\".format(n_FN))\n",
    "\n",
    "print(\"\\nThreshold is {}\".format(threshold))\n",
    "idx_detection = return_anomaly_idx_by_threshold(recon_loss, threshold)\n",
    "idx_detection_augmented = augment_detected_idx(idx_detection, anomaly_index)\n",
    "precision, recall, F1, _,n_TP, n_FP, n_FN = compute_precision_and_recall(idx_detection_augmented, \n",
    "                                                                       anomaly_index, \n",
    "                                                                       test_labels)\n",
    "print(\"\\nPR evaluation using augmented detection:\")\n",
    "print(\"Precision: {}\".format(precision))\n",
    "print(\"Recall: {}\".format(recall))\n",
    "print(\"F1: {}\".format(F1))\n",
    "print(\"TP: {}\".format(n_TP))\n",
    "print(\"FP: {}\".format(n_FP))"
   ]
  },
  {
   "cell_type": "code",
   "execution_count": 22,
   "id": "b86dea4c",
   "metadata": {},
   "outputs": [
    {
     "name": "stdout",
     "output_type": "stream",
     "text": [
      "AUC = 0.5037869126530138\n"
     ]
    },
    {
     "data": {
      "image/png": "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\n",
      "text/plain": [
       "<Figure size 432x288 with 1 Axes>"
      ]
     },
     "metadata": {
      "needs_background": "light"
     },
     "output_type": "display_data"
    }
   ],
   "source": [
    "from sklearn import metrics\n",
    "import matplotlib.pyplot as plt\n",
    "%matplotlib inline\n",
    "fpr, tpr, _ = metrics.roc_curve(test_labels,recon_loss, pos_label = 1)\n",
    "auc = metrics.auc(fpr,tpr)\n",
    "print("AUC =", auc)\n",
    "lw = 2\n",
    "plt.plot(fpr, tpr, color="darkorange", lw=lw, label="ROC curve (area = %0.2f)" % auc)\n",
    "plt.plot([0, 1], [0, 1], color="navy", lw=lw, linestyle="--")\n",
    "plt.xlim([0.0, 1.0])\n",
    "plt.ylim([0.0, 1.05])\n",
    "plt.xlabel("False Positive Rate")\n",
    "plt.ylabel("True Positive Rate")\n",
    "plt.title("Receiver operating characteristic of " + config["dataset"])\n",
    "plt.legend(loc=\"lower right\")\n",
    "plt.show()"
   ]
  },
  {
   "cell_type": "code",
   "execution_count": 23,
   "id": "3889e93c",
   "metadata": {},
   "outputs": [
    {
     "name": "stdout",
     "output_type": "stream",
     "text": [
      "AUC = 0.9090248990985051\n"
     ]
    },
    {
     "data": {
      "image/png": "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\n",
      "text/plain": [
       "<Figure size 432x288 with 1 Axes>"
      ]
     },
     "metadata": {
      "needs_background": "light"
     },
     "output_type": "display_data"
    }
   ],
   "source": [
    "tpr = np.insert(recall_aug,[0,n_threshold],[0,1])\n",
    "fpr = np.insert(fpr_aug,[0,n_threshold],[0,1])\n",
    "auc = metrics.auc(fpr,tpr)\n",
    "print("AUC =", auc)\n",
    "lw = 2\n",
    "plt.plot(fpr, tpr, color="darkorange", lw=lw, label="ROC curve (area = %0.4f)" % auc)\n",
    "plt.plot([0, 1], [0, 1], color="navy", lw=lw, linestyle="--")\n",
    "plt.xlim([0.0, 1.0])\n",
    "plt.ylim([0.0, 1.05])\n",
    "plt.xlabel("False Positive Rate")\n",
    "plt.ylabel("True Positive Rate")\n",
    "plt.title("Augmented Receiver operating characteristic of " + config["dataset"])\n",
    "plt.legend(loc=\"lower right\")\n",
    "# savefig(config["result_dir"]+ "augmentedroc.pdf")\n",
    "plt.show()"
   ]
  },
  {
   "cell_type": "code",
   "execution_count": 116,
   "id": "358f7c4e",
   "metadata": {},
   "outputs": [
    {
     "data": {
      "text/html": [
       "<div>\n",
       "<style scoped>\n",
       "    .dataframe tbody tr th:only-of-type {\n",
       "        vertical-align: middle;\n",
       "    }\n",
       "\n",
       "    .dataframe tbody tr th {\n",
       "        vertical-align: top;\n",
       "    }\n",
       "\n",
       "    .dataframe thead th {\n",
       "        text-align: right;\n",
       "    }\n",
       "</style>\n",
       "<table border=\"1\" class=\"dataframe\">\n",
       "  <thead>\n",
       "    <tr style=\"text-align: right;\">\n",
       "      <th></th>\n",
       "      <th>loss</th>\n",
       "    </tr>\n",
       "  </thead>\n",
       "  <tbody>\n",
       "    <tr>\n",
       "      <th>0</th>\n",
       "      <td>0.0</td>\n",
       "    </tr>\n",
       "    <tr>\n",
       "      <th>1</th>\n",
       "      <td>0.0</td>\n",
       "    </tr>\n",
       "    <tr>\n",
       "      <th>2</th>\n",
       "      <td>0.0</td>\n",
       "    </tr>\n",
       "    <tr>\n",
       "      <th>3</th>\n",
       "      <td>0.0</td>\n",
       "    </tr>\n",
       "    <tr>\n",
       "      <th>4</th>\n",
       "      <td>0.0</td>\n",
       "    </tr>\n",
       "    <tr>\n",
       "      <th>...</th>\n",
       "      <td>...</td>\n",
       "    </tr>\n",
       "    <tr>\n",
       "      <th>40013</th>\n",
       "      <td>0.0</td>\n",
       "    </tr>\n",
       "    <tr>\n",
       "      <th>40014</th>\n",
       "      <td>0.0</td>\n",
       "    </tr>\n",
       "    <tr>\n",
       "      <th>40015</th>\n",
       "      <td>0.0</td>\n",
       "    </tr>\n",
       "    <tr>\n",
       "      <th>40016</th>\n",
       "      <td>0.0</td>\n",
       "    </tr>\n",
       "    <tr>\n",
       "      <th>40017</th>\n",
       "      <td>0.0</td>\n",
       "    </tr>\n",
       "  </tbody>\n",
       "</table>\n",
       "<p>40018 rows × 1 columns</p>\n",
       "</div>"
      ],
      "text/plain": [
       "       loss\n",
       "0       0.0\n",
       "1       0.0\n",
       "2       0.0\n",
       "3       0.0\n",
       "4       0.0\n",
       "...     ...\n",
       "40013   0.0\n",
       "40014   0.0\n",
       "40015   0.0\n",
       "40016   0.0\n",
       "40017   0.0\n",
       "\n",
       "[40018 rows x 1 columns]"
      ]
     },
     "execution_count": 116,
     "metadata": {},
     "output_type": "execute_result"
    }
   ],
   "source": [
    "# !pip install pandas\n",
    "import pandas as pd\n",
    "\n",
    "recon = pd.DataFrame(recon_loss, columns=[\"loss\"])\n",
    "recon"
   ]
  },
  {
   "cell_type": "code",
   "execution_count": 41,
   "id": "7c59847c",
   "metadata": {},
   "outputs": [],
   "source": [
    "threshold = 0.17105178482016375\n",
    "recon[\"class\"] = recon[\"loss\"] >= threshold"
   ]
  },
  {
   "cell_type": "code",
   "execution_count": 117,
   "id": "be66ea33",
   "metadata": {},
   "outputs": [
    {
     "data": {
      "text/html": [
       "<div>\n",
       "<style scoped>\n",
       "    .dataframe tbody tr th:only-of-type {\n",
       "        vertical-align: middle;\n",
       "    }\n",
       "\n",
       "    .dataframe tbody tr th {\n",
       "        vertical-align: top;\n",
       "    }\n",
       "\n",
       "    .dataframe thead th {\n",
       "        text-align: right;\n",
       "    }\n",
       "</style>\n",
       "<table border=\"1\" class=\"dataframe\">\n",
       "  <thead>\n",
       "    <tr style=\"text-align: right;\">\n",
       "      <th></th>\n",
       "      <th>loss</th>\n",
       "      <th>class</th>\n",
       "    </tr>\n",
       "  </thead>\n",
       "  <tbody>\n",
       "    <tr>\n",
       "      <th>0</th>\n",
       "      <td>0.0</td>\n",
       "      <td>0</td>\n",
       "    </tr>\n",
       "    <tr>\n",
       "      <th>1</th>\n",
       "      <td>0.0</td>\n",
       "      <td>0</td>\n",
       "    </tr>\n",
       "    <tr>\n",
       "      <th>2</th>\n",
       "      <td>0.0</td>\n",
       "      <td>0</td>\n",
       "    </tr>\n",
       "    <tr>\n",
       "      <th>3</th>\n",
       "      <td>0.0</td>\n",
       "      <td>0</td>\n",
       "    </tr>\n",
       "    <tr>\n",
       "      <th>4</th>\n",
       "      <td>0.0</td>\n",
       "      <td>0</td>\n",
       "    </tr>\n",
       "    <tr>\n",
       "      <th>...</th>\n",
       "      <td>...</td>\n",
       "      <td>...</td>\n",
       "    </tr>\n",
       "    <tr>\n",
       "      <th>40013</th>\n",
       "      <td>0.0</td>\n",
       "      <td>0</td>\n",
       "    </tr>\n",
       "    <tr>\n",
       "      <th>40014</th>\n",
       "      <td>0.0</td>\n",
       "      <td>0</td>\n",
       "    </tr>\n",
       "    <tr>\n",
       "      <th>40015</th>\n",
       "      <td>0.0</td>\n",
       "      <td>0</td>\n",
       "    </tr>\n",
       "    <tr>\n",
       "      <th>40016</th>\n",
       "      <td>0.0</td>\n",
       "      <td>0</td>\n",
       "    </tr>\n",
       "    <tr>\n",
       "      <th>40017</th>\n",
       "      <td>0.0</td>\n",
       "      <td>0</td>\n",
       "    </tr>\n",
       "  </tbody>\n",
       "</table>\n",
       "<p>40018 rows × 2 columns</p>\n",
       "</div>"
      ],
      "text/plain": [
       "       loss  class\n",
       "0       0.0      0\n",
       "1       0.0      0\n",
       "2       0.0      0\n",
       "3       0.0      0\n",
       "4       0.0      0\n",
       "...     ...    ...\n",
       "40013   0.0      0\n",
       "40014   0.0      0\n",
       "40015   0.0      0\n",
       "40016   0.0      0\n",
       "40017   0.0      0\n",
       "\n",
       "[40018 rows x 2 columns]"
      ]
     },
     "execution_count": 117,
     "metadata": {},
     "output_type": "execute_result"
    }
   ],
   "source": [
    "recon[\"class\"] = 0\n",
    "recon"
   ]
  },
  {
   "cell_type": "code",
   "execution_count": 42,
   "id": "3b8d4fa4",
   "metadata": {},
   "outputs": [
    {
     "data": {
      "text/plain": [
       "True     67782\n",
       "False      677\n",
       "Name: class, dtype: int64"
      ]
     },
     "execution_count": 42,
     "metadata": {},
     "output_type": "execute_result"
    }
   ],
   "source": [
    "recon["class"].value_counts()"
   ]
  },
  {
   "cell_type": "code",
   "execution_count": 38,
   "id": "5c9f1553",
   "metadata": {},
   "outputs": [],
   "source": [
    "recon["class"].replace({True: -1, False: 1}, inplace=True)"
   ]
  },
  {
   "cell_type": "code",
   "execution_count": 40,
   "id": "3f33765f",
   "metadata": {},
   "outputs": [
    {
     "data": {
      "text/plain": [
       "14947"
      ]
     },
     "execution_count": 40,
     "metadata": {},
     "output_type": "execute_result"
    }
   ],
   "source": [
    "idx_anomaly_test.shape[0]"
   ]
  },
  {
   "cell_type": "code",
   "execution_count": 118,
   "id": "e0807275",
   "metadata": {},
   "outputs": [],
   "source": [
    "recon.to_csv(\"recon_loss_training.csv\")"
   ]
  },
  {
   "cell_type": "code",
   "execution_count": 44,
   "id": "36102cd3",
   "metadata": {},
   "outputs": [
    {
     "data": {
      "text/html": [
       "<div>\n",
       "<style scoped>\n",
       "    .dataframe tbody tr th:only-of-type {\n",
       "        vertical-align: middle;\n",
       "    }\n",
       "\n",
       "    .dataframe tbody tr th {\n",
       "        vertical-align: top;\n",
       "    }\n",
       "\n",
       "    .dataframe thead th {\n",
       "        text-align: right;\n",
       "    }\n",
       "</style>\n",
       "<table border=\"1\" class=\"dataframe\">\n",
       "  <thead>\n",
       "    <tr style=\"text-align: right;\">\n",
       "      <th></th>\n",
       "      <th>loss</th>\n",
       "      <th>class</th>\n",
       "    </tr>\n",
       "  </thead>\n",
       "  <tbody>\n",
       "    <tr>\n",
       "      <th>0</th>\n",
       "      <td>0.244325</td>\n",
       "      <td>True</td>\n",
       "    </tr>\n",
       "    <tr>\n",
       "      <th>1</th>\n",
       "      <td>0.250127</td>\n",
       "      <td>True</td>\n",
       "    </tr>\n",
       "    <tr>\n",
       "      <th>2</th>\n",
       "      <td>1.015383</td>\n",
       "      <td>True</td>\n",
       "    </tr>\n",
       "    <tr>\n",
       "      <th>3</th>\n",
       "      <td>0.433655</td>\n",
       "      <td>True</td>\n",
       "    </tr>\n",
       "    <tr>\n",
       "      <th>4</th>\n",
       "      <td>0.372799</td>\n",
       "      <td>True</td>\n",
       "    </tr>\n",
       "    <tr>\n",
       "      <th>...</th>\n",
       "      <td>...</td>\n",
       "      <td>...</td>\n",
       "    </tr>\n",
       "    <tr>\n",
       "      <th>68454</th>\n",
       "      <td>0.365998</td>\n",
       "      <td>True</td>\n",
       "    </tr>\n",
       "    <tr>\n",
       "      <th>68455</th>\n",
       "      <td>0.339223</td>\n",
       "      <td>True</td>\n",
       "    </tr>\n",
       "    <tr>\n",
       "      <th>68456</th>\n",
       "      <td>0.497953</td>\n",
       "      <td>True</td>\n",
       "    </tr>\n",
       "    <tr>\n",
       "      <th>68457</th>\n",
       "      <td>0.235049</td>\n",
       "      <td>True</td>\n",
       "    </tr>\n",
       "    <tr>\n",
       "      <th>68458</th>\n",
       "      <td>0.282733</td>\n",
       "      <td>True</td>\n",
       "    </tr>\n",
       "  </tbody>\n",
       "</table>\n",
       "<p>68459 rows × 2 columns</p>\n",
       "</div>"
      ],
      "text/plain": [
       "           loss  class\n",
       "0      0.244325   True\n",
       "1      0.250127   True\n",
       "2      1.015383   True\n",
       "3      0.433655   True\n",
       "4      0.372799   True\n",
       "...         ...    ...\n",
       "68454  0.365998   True\n",
       "68455  0.339223   True\n",
       "68456  0.497953   True\n",
       "68457  0.235049   True\n",
       "68458  0.282733   True\n",
       "\n",
       "[68459 rows x 2 columns]"
      ]
     },
     "execution_count": 44,
     "metadata": {},
     "output_type": "execute_result"
    }
   ],
   "source": [
    "recon"
   ]
  },
  {
   "cell_type": "code",
   "execution_count": 119,
   "id": "07a4ec1e",
   "metadata": {},
   "outputs": [],
   "source": [
    "out = None\n",
    "\n",
    "batch = None\n",
    "\n",
    "recon_loss = np.zeros((dataset.rolling_windows.shape[0], config["post_mask"] - config["pre_mask"], dataset.rolling_windows.shape[-1]))\n",
    "\n",
    "for i, batch in enumerate(data_loader):\n",
    "    out = model(batch["input"].float(), src_mask=None)\n",
    "    recon_loss = np.append(recon_loss, out[:, config["pre_mask"]:config["post_mask"], :].detach().numpy() - batch["target"][:, config["pre_mask"]:config["post_mask"], :].detach().numpy(), axis=0)\n"
   ]
  },
  {
   "cell_type": "code",
   "execution_count": 122,
   "id": "d9617a93",
   "metadata": {},
   "outputs": [],
   "source": [
    "shape = np.delete(recon_loss, np.s_[:dataset.rolling_windows.shape[0]], axis=0)"
   ]
  },
  {
   "cell_type": "code",
   "execution_count": 126,
   "id": "996cec1a",
   "metadata": {},
   "outputs": [
    {
     "data": {
      "text/plain": [
       "array([[[ 1.36933260e-02, -5.35955669e-02,  8.23855140e-01, ...,\n",
       "          5.36230410e-02, -1.03337374e-03,  1.00219264e+00],\n",
       "        [ 1.36933260e-02,  4.73801286e-01,  8.23855140e-01, ...,\n",
       "          5.36230410e-02,  8.26165844e-01,  5.38092054e-03],\n",
       "        [ 1.36933260e-02,  1.85803680e-02, -1.64807202e+00, ...,\n",
       "          5.27674840e-02,  5.11907632e-02,  1.16669456e-02],\n",
       "        ...,\n",
       "        [ 1.36933260e-02,  4.73801286e-01,  8.23855140e-01, ...,\n",
       "          5.36230410e-02,  8.26165844e-01,  7.62812269e-04],\n",
       "        [ 1.36933260e-02,  1.44564418e-02, -1.64807202e+00, ...,\n",
       "          5.36230410e-02,  6.10595842e-02,  1.09090129e-02],\n",
       "        [ 1.36933260e-02, -1.99578943e-02,  8.23855140e-01, ...,\n",
       "          5.36230410e-02, -1.05722031e-02,  1.00219264e+00]],\n",
       "\n",
       "       [[ 1.36933260e-02,  4.73801286e-01,  8.23855140e-01, ...,\n",
       "          5.36230410e-02,  8.26165844e-01, -5.55229984e-03],\n",
       "        [ 1.36933260e-02,  5.03681899e-01, -1.78277494e-01, ...,\n",
       "          5.36230410e-02, -1.18284606e-01,  1.00219264e+00],\n",
       "        [ 1.36933260e-02,  2.56510286e-02, -1.64807202e+00, ...,\n",
       "          5.36230410e-02,  6.43441530e-01, -1.08710011e-02],\n",
       "        ...,\n",
       "        [ 1.36933260e-02,  4.73801286e-01, -1.78277494e-01, ...,\n",
       "          5.36230410e-02,  4.78007457e-02,  1.00219264e+00],\n",
       "        [ 1.36933260e-02, -8.85411443e-02, -1.64807202e+00, ...,\n",
       "          5.36230410e-02,  6.42704739e-01,  1.87094728e-02],\n",
       "        [ 1.36933260e-02, -9.98309197e-02,  8.23855140e-01, ...,\n",
       "          5.36230410e-02, -1.19383415e-02,  1.00219264e+00]],\n",
       "\n",
       "       [[ 1.36933260e-02,  4.73801286e-01, -1.78277494e-01, ...,\n",
       "          5.36230410e-02,  6.43441530e-01,  1.00219264e+00],\n",
       "        [ 1.36933260e-02, -5.41335286e-02, -1.64807202e+00, ...,\n",
       "          5.36230410e-02,  1.02104722e+00,  1.41050140e-02],\n",
       "        [ 1.36933260e-02, -1.13262826e-01,  8.23855140e-01, ...,\n",
       "          5.36230410e-02,  9.23983191e-04,  1.00219264e+00],\n",
       "        ...,\n",
       "        [ 1.36933260e-02, -1.49250770e-01, -1.64807202e+00, ...,\n",
       "          5.36230410e-02,  1.02104722e+00,  7.96382822e-03],\n",
       "        [ 1.36933260e-02, -6.10199215e-02,  8.23855140e-01, ...,\n",
       "          5.36230410e-02,  7.13651571e-03,  1.00219264e+00],\n",
       "        [ 1.36933260e-02,  4.73801286e-01,  8.23855140e-01, ...,\n",
       "          5.36230410e-02,  8.26165844e-01,  4.11562098e-04]],\n",
       "\n",
       "       ...,\n",
       "\n",
       "       [[ 1.36933260e-02, -7.14080276e-02,  8.23855140e-01, ...,\n",
       "          5.36230410e-02,  5.19829187e-03,  1.00219264e+00],\n",
       "        [ 1.36933260e-02,  4.73801286e-01,  8.23855140e-01, ...,\n",
       "          5.36230410e-02,  8.26165844e-01, -5.26905857e-03],\n",
       "        [ 1.36933260e-02,  4.73801286e-01, -1.78277494e-01, ...,\n",
       "          5.36230410e-02,  2.59941510e-01,  1.00219264e+00],\n",
       "        ...,\n",
       "        [ 1.36933260e-02,  4.73801286e-01,  8.23855140e-01, ...,\n",
       "          5.36230410e-02,  8.26165844e-01, -7.42996536e-03],\n",
       "        [ 1.36933260e-02, -8.18891245e-03, -1.64807202e+00, ...,\n",
       "          5.36230400e-02,  7.32593312e-01, -4.36962448e-03],\n",
       "        [ 1.36933260e-02, -3.48354222e-02,  8.23855140e-01, ...,\n",
       "          5.36230400e-02,  3.38058863e-03,  1.00219264e+00]],\n",
       "\n",
       "       [[ 1.36933260e-02,  4.73801286e-01,  8.23855140e-01, ...,\n",
       "          5.36230410e-02,  8.26165844e-01, -4.88979422e-03],\n",
       "        [ 1.36933260e-02,  4.73801286e-01, -1.78277494e-01, ...,\n",
       "          5.36230410e-02,  9.21948750e-01,  1.00219264e+00],\n",
       "        [ 1.36933260e-02,  2.47898607e-02, -1.64807202e+00, ...,\n",
       "          5.36230410e-02,  5.49132207e-01,  5.28519548e-03],\n",
       "        ...,\n",
       "        [ 1.36933260e-02,  4.73801286e-01, -1.78277494e-01, ...,\n",
       "          5.36230410e-02,  8.26902635e-01,  1.00219264e+00],\n",
       "        [ 1.36933260e-02, -7.84797388e-03, -1.64807202e+00, ...,\n",
       "          5.36230410e-02,  5.49132207e-01, -5.58682310e-04],\n",
       "        [ 1.36933260e-02, -2.20793726e-02,  8.23855140e-01, ...,\n",
       "          5.36230410e-02, -7.21503105e-03,  1.00219264e+00]],\n",
       "\n",
       "       [[ 1.36933260e-02,  4.73801286e-01, -1.78277494e-01, ...,\n",
       "          5.36230410e-02, -1.66039759e-03,  1.00219264e+00],\n",
       "        [ 1.36933260e-02,  4.73801286e-01,  8.23855140e-01, ...,\n",
       "          5.36230410e-02,  8.26165844e-01, -1.52546965e-03],\n",
       "        [ 1.36933260e-02,  4.73801286e-01, -1.78277494e-01, ...,\n",
       "          5.36230410e-02, -1.89689828e-01,  1.00219264e+00],\n",
       "        ...,\n",
       "        [ 1.36933260e-02,  4.73801286e-01,  8.23855140e-01, ...,\n",
       "          5.36230410e-02,  8.26165844e-01, -5.53913938e-04],\n",
       "        [ 1.36933260e-02, -1.04283536e-01, -1.64807202e+00, ...,\n",
       "          5.36230410e-02,  1.01478449e+00,  8.86278547e-03],\n",
       "        [ 1.36933260e-02, -7.44203569e-02,  8.23855140e-01, ...,\n",
       "          5.36230410e-02,  1.61329428e-02,  1.00219264e+00]]])"
      ]
     },
     "execution_count": 126,
     "metadata": {},
     "output_type": "execute_result"
    }
   ],
   "source": [
    "recon = shape\n",
    "recon.shape\n",
    "recon"
   ]
  },
  {
   "cell_type": "code",
   "execution_count": 128,
   "id": "99eec789",
   "metadata": {},
   "outputs": [
    {
     "data": {
      "text/plain": [
       "array([0., 0., 0., ..., 0., 0., 0.])"
      ]
     },
     "execution_count": 128,
     "metadata": {},
     "output_type": "execute_result"
    }
   ],
   "source": [
    "recon_class = np.zeros(recon.shape[0])\n",
    "recon_class.shape\n",
    "recon_class"
   ]
  },
  {
   "cell_type": "code",
   "execution_count": 107,
   "id": "0e3689f7",
   "metadata": {},
   "outputs": [],
   "source": [
    "np.savez(\"recon.npz\", recon=recon, label=recon_class)"
   ]
  },
  {
   "cell_type": "code",
   "execution_count": 108,
   "id": "50593d98",
   "metadata": {},
   "outputs": [],
   "source": [
    "npz = np.load(\"recon.npz\")"
   ]
  },
  {
   "cell_type": "code",
   "execution_count": 130,
   "id": "0d5d7cf5",
   "metadata": {},
   "outputs": [
    {
     "data": {
      "text/plain": [
       "(40018, 40, 16)"
      ]
     },
     "execution_count": 130,
     "metadata": {},
     "output_type": "execute_result"
    }
   ],
   "source": [
    "recon.shape"
   ]
  },
  {
   "cell_type": "code",
   "execution_count": 110,
   "id": "86006065",
   "metadata": {},
   "outputs": [
    {
     "data": {
      "text/plain": [
       "array([1, 1, 1, ..., 1, 1, 1])"
      ]
     },
     "execution_count": 110,
     "metadata": {},
     "output_type": "execute_result"
    }
   ],
   "source": [
    "npz[\"label\"]"
   ]
  },
  {
   "cell_type": "code",
   "execution_count": null,
   "id": "c7d71f85",
   "metadata": {},
   "outputs": [],
   "source": []
  }
 ],
 "metadata": {
  "kernelspec": {
   "display_name": "Python 3 (ipykernel)",
   "language": "python",
   "name": "python3"
  },
  "language_info": {
   "codemirror_mode": {
    "name": "ipython",
    "version": 3
   },
   "file_extension": ".py",
   "mimetype": "text/x-python",
   "name": "python",
   "nbconvert_exporter": "python",
   "pygments_lexer": "ipython3",
   "version": "3.8.10"
  }
 },
 "nbformat": 4,
 "nbformat_minor": 5
}
