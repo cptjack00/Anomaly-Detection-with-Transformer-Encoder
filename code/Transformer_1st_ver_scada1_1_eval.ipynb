{
 "cells": [
  {
   "cell_type": "code",
   "execution_count": 1,
   "id": "d6d4a3e9",
   "metadata": {},
   "outputs": [],
   "source": [
    "import torch\n",
    "import numpy as np\n",
    "from train import create_dataloader\n",
    "from model import make_model\n",
    "from data_loader import CustomDataset"
   ]
  },
  {
   "cell_type": "code",
   "execution_count": 2,
   "id": "ae69791d",
   "metadata": {},
   "outputs": [],
   "source": [
    "config = {'dataset': 'scada1_1', 'l_win': 200, 'pre_mask': 80, 'post_mask': 120,\n",
    "          'batch_size': 32, 'shuffle': False, 'dataloader_num_workers': 10, 'num_epoch': 50, 'model_path': '../models/'}"
   ]
  },
  {
   "cell_type": "code",
   "execution_count": 3,
   "id": "a6f3847c",
   "metadata": {},
   "outputs": [
    {
     "data": {
      "text/plain": [
       "AnomalyModel(\n",
       "  (encoder): Encoder(\n",
       "    (layers): ModuleList(\n",
       "      (0): EncoderLayer(\n",
       "        (self_attn): MultiHeadAttention(\n",
       "          (linears): ModuleList(\n",
       "            (0): Linear(in_features=16, out_features=16, bias=True)\n",
       "            (1): Linear(in_features=16, out_features=16, bias=True)\n",
       "            (2): Linear(in_features=16, out_features=16, bias=True)\n",
       "            (3): Linear(in_features=16, out_features=16, bias=True)\n",
       "          )\n",
       "        )\n",
       "        (feed_forward): PositionwiseFeedForward(\n",
       "          (w_1): Linear(in_features=16, out_features=128, bias=True)\n",
       "          (w_2): Linear(in_features=128, out_features=16, bias=True)\n",
       "          (dropout): Dropout(p=0.1, inplace=False)\n",
       "        )\n",
       "        (sublayer): ModuleList(\n",
       "          (0): SublayerConnection(\n",
       "            (norm): LayerNorm((16,), eps=1e-05, elementwise_affine=True)\n",
       "            (dropout): Dropout(p=0.1, inplace=False)\n",
       "          )\n",
       "          (1): SublayerConnection(\n",
       "            (norm): LayerNorm((16,), eps=1e-05, elementwise_affine=True)\n",
       "            (dropout): Dropout(p=0.1, inplace=False)\n",
       "          )\n",
       "        )\n",
       "      )\n",
       "      (1): EncoderLayer(\n",
       "        (self_attn): MultiHeadAttention(\n",
       "          (linears): ModuleList(\n",
       "            (0): Linear(in_features=16, out_features=16, bias=True)\n",
       "            (1): Linear(in_features=16, out_features=16, bias=True)\n",
       "            (2): Linear(in_features=16, out_features=16, bias=True)\n",
       "            (3): Linear(in_features=16, out_features=16, bias=True)\n",
       "          )\n",
       "        )\n",
       "        (feed_forward): PositionwiseFeedForward(\n",
       "          (w_1): Linear(in_features=16, out_features=128, bias=True)\n",
       "          (w_2): Linear(in_features=128, out_features=16, bias=True)\n",
       "          (dropout): Dropout(p=0.1, inplace=False)\n",
       "        )\n",
       "        (sublayer): ModuleList(\n",
       "          (0): SublayerConnection(\n",
       "            (norm): LayerNorm((16,), eps=1e-05, elementwise_affine=True)\n",
       "            (dropout): Dropout(p=0.1, inplace=False)\n",
       "          )\n",
       "          (1): SublayerConnection(\n",
       "            (norm): LayerNorm((16,), eps=1e-05, elementwise_affine=True)\n",
       "            (dropout): Dropout(p=0.1, inplace=False)\n",
       "          )\n",
       "        )\n",
       "      )\n",
       "      (2): EncoderLayer(\n",
       "        (self_attn): MultiHeadAttention(\n",
       "          (linears): ModuleList(\n",
       "            (0): Linear(in_features=16, out_features=16, bias=True)\n",
       "            (1): Linear(in_features=16, out_features=16, bias=True)\n",
       "            (2): Linear(in_features=16, out_features=16, bias=True)\n",
       "            (3): Linear(in_features=16, out_features=16, bias=True)\n",
       "          )\n",
       "        )\n",
       "        (feed_forward): PositionwiseFeedForward(\n",
       "          (w_1): Linear(in_features=16, out_features=128, bias=True)\n",
       "          (w_2): Linear(in_features=128, out_features=16, bias=True)\n",
       "          (dropout): Dropout(p=0.1, inplace=False)\n",
       "        )\n",
       "        (sublayer): ModuleList(\n",
       "          (0): SublayerConnection(\n",
       "            (norm): LayerNorm((16,), eps=1e-05, elementwise_affine=True)\n",
       "            (dropout): Dropout(p=0.1, inplace=False)\n",
       "          )\n",
       "          (1): SublayerConnection(\n",
       "            (norm): LayerNorm((16,), eps=1e-05, elementwise_affine=True)\n",
       "            (dropout): Dropout(p=0.1, inplace=False)\n",
       "          )\n",
       "        )\n",
       "      )\n",
       "      (3): EncoderLayer(\n",
       "        (self_attn): MultiHeadAttention(\n",
       "          (linears): ModuleList(\n",
       "            (0): Linear(in_features=16, out_features=16, bias=True)\n",
       "            (1): Linear(in_features=16, out_features=16, bias=True)\n",
       "            (2): Linear(in_features=16, out_features=16, bias=True)\n",
       "            (3): Linear(in_features=16, out_features=16, bias=True)\n",
       "          )\n",
       "        )\n",
       "        (feed_forward): PositionwiseFeedForward(\n",
       "          (w_1): Linear(in_features=16, out_features=128, bias=True)\n",
       "          (w_2): Linear(in_features=128, out_features=16, bias=True)\n",
       "          (dropout): Dropout(p=0.1, inplace=False)\n",
       "        )\n",
       "        (sublayer): ModuleList(\n",
       "          (0): SublayerConnection(\n",
       "            (norm): LayerNorm((16,), eps=1e-05, elementwise_affine=True)\n",
       "            (dropout): Dropout(p=0.1, inplace=False)\n",
       "          )\n",
       "          (1): SublayerConnection(\n",
       "            (norm): LayerNorm((16,), eps=1e-05, elementwise_affine=True)\n",
       "            (dropout): Dropout(p=0.1, inplace=False)\n",
       "          )\n",
       "        )\n",
       "      )\n",
       "      (4): EncoderLayer(\n",
       "        (self_attn): MultiHeadAttention(\n",
       "          (linears): ModuleList(\n",
       "            (0): Linear(in_features=16, out_features=16, bias=True)\n",
       "            (1): Linear(in_features=16, out_features=16, bias=True)\n",
       "            (2): Linear(in_features=16, out_features=16, bias=True)\n",
       "            (3): Linear(in_features=16, out_features=16, bias=True)\n",
       "          )\n",
       "        )\n",
       "        (feed_forward): PositionwiseFeedForward(\n",
       "          (w_1): Linear(in_features=16, out_features=128, bias=True)\n",
       "          (w_2): Linear(in_features=128, out_features=16, bias=True)\n",
       "          (dropout): Dropout(p=0.1, inplace=False)\n",
       "        )\n",
       "        (sublayer): ModuleList(\n",
       "          (0): SublayerConnection(\n",
       "            (norm): LayerNorm((16,), eps=1e-05, elementwise_affine=True)\n",
       "            (dropout): Dropout(p=0.1, inplace=False)\n",
       "          )\n",
       "          (1): SublayerConnection(\n",
       "            (norm): LayerNorm((16,), eps=1e-05, elementwise_affine=True)\n",
       "            (dropout): Dropout(p=0.1, inplace=False)\n",
       "          )\n",
       "        )\n",
       "      )\n",
       "      (5): EncoderLayer(\n",
       "        (self_attn): MultiHeadAttention(\n",
       "          (linears): ModuleList(\n",
       "            (0): Linear(in_features=16, out_features=16, bias=True)\n",
       "            (1): Linear(in_features=16, out_features=16, bias=True)\n",
       "            (2): Linear(in_features=16, out_features=16, bias=True)\n",
       "            (3): Linear(in_features=16, out_features=16, bias=True)\n",
       "          )\n",
       "        )\n",
       "        (feed_forward): PositionwiseFeedForward(\n",
       "          (w_1): Linear(in_features=16, out_features=128, bias=True)\n",
       "          (w_2): Linear(in_features=128, out_features=16, bias=True)\n",
       "          (dropout): Dropout(p=0.1, inplace=False)\n",
       "        )\n",
       "        (sublayer): ModuleList(\n",
       "          (0): SublayerConnection(\n",
       "            (norm): LayerNorm((16,), eps=1e-05, elementwise_affine=True)\n",
       "            (dropout): Dropout(p=0.1, inplace=False)\n",
       "          )\n",
       "          (1): SublayerConnection(\n",
       "            (norm): LayerNorm((16,), eps=1e-05, elementwise_affine=True)\n",
       "            (dropout): Dropout(p=0.1, inplace=False)\n",
       "          )\n",
       "        )\n",
       "      )\n",
       "    )\n",
       "    (norm): LayerNorm((16,), eps=1e-05, elementwise_affine=True)\n",
       "  )\n",
       "  (src_embed): Sequential(\n",
       "    (0): PositionalEncoding(\n",
       "      (dropout): Dropout(p=0.1, inplace=False)\n",
       "    )\n",
       "  )\n",
       "  (linear): Linear(in_features=16, out_features=16, bias=True)\n",
       ")"
      ]
     },
     "execution_count": 3,
     "metadata": {},
     "output_type": "execute_result"
    }
   ],
   "source": [
    "model = make_model(N=6, d_model=16, l_win=config['l_win'], d_ff=128, h=1, dropout=0.1).float()\n",
    "model.load_state_dict(torch.load(config['model_path'] + \"best_train_13.pth\"))\n",
    "model.eval()"
   ]
  },
  {
   "cell_type": "code",
   "execution_count": 6,
   "id": "8d94d3ae",
   "metadata": {},
   "outputs": [],
   "source": [
    "dataset = CustomDataset(config, train=False)\n",
    "data_loader = create_dataloader(dataset, config)"
   ]
  },
  {
   "cell_type": "code",
   "execution_count": 7,
   "id": "8ecc6f57",
   "metadata": {},
   "outputs": [],
   "source": [
    "out = None\n",
    "batch = None\n",
    "for i, batch in enumerate(data_loader):\n",
    "    out = model(batch['input'].float(), src_mask=None)\n",
    "    break"
   ]
  },
  {
   "cell_type": "code",
   "execution_count": 8,
   "id": "301e8b78",
   "metadata": {},
   "outputs": [
    {
     "ename": "AttributeError",
     "evalue": "'CustomDataset' object has no attribute 'idx_anomaly'",
     "output_type": "error",
     "traceback": [
      "\u001b[0;31m---------------------------------------------------------------------------\u001b[0m",
      "\u001b[0;31mAttributeError\u001b[0m                            Traceback (most recent call last)",
      "\u001b[0;32m/tmp/ipykernel_117823/2773454879.py\u001b[0m in \u001b[0;36m<module>\u001b[0;34m\u001b[0m\n\u001b[0;32m----> 1\u001b[0;31m \u001b[0mdataset\u001b[0m\u001b[0;34m.\u001b[0m\u001b[0midx_anomaly\u001b[0m\u001b[0;34m\u001b[0m\u001b[0;34m\u001b[0m\u001b[0m\n\u001b[0m",
      "\u001b[0;31mAttributeError\u001b[0m: 'CustomDataset' object has no attribute 'idx_anomaly'"
     ]
    }
   ],
   "source": [
    "dataset.idx_anomaly"
   ]
  },
  {
   "cell_type": "code",
   "execution_count": 15,
   "id": "63d057e7",
   "metadata": {},
   "outputs": [
    {
     "data": {
      "text/plain": [
       "tensor([[-0.0137,  0.2678,  1.6481,  0.8937,  0.1164,  0.5641, -0.0039,  0.6076,\n",
       "         -0.1399, -0.6196,  0.7190, -0.6854, -0.9136, -0.0536, -0.2680,  0.9978],\n",
       "        [-0.0137,  0.2678, -0.8239,  0.8937,  0.1164,  0.5641, -0.0039,  0.6076,\n",
       "         -0.1399, -0.6196,  0.7190, -0.6854, -0.9136, -0.0536,  0.9602, -1.0022],\n",
       "        [-0.0137, -0.4738, -0.8239,  0.8937,  0.1164,  0.5641, -0.0039,  0.6076,\n",
       "         -0.1399, -0.6196,  0.7190, -0.6854, -0.9136, -0.0536, -0.8262,  0.9978]],\n",
       "       dtype=torch.float64)"
      ]
     },
     "execution_count": 15,
     "metadata": {},
     "output_type": "execute_result"
    }
   ],
   "source": [
    "batch['input'][3, 200:203, :]"
   ]
  },
  {
   "cell_type": "code",
   "execution_count": null,
   "id": "c33b14f2",
   "metadata": {},
   "outputs": [],
   "source": [
    "batch['target']"
   ]
  }
 ],
 "metadata": {
  "kernelspec": {
   "display_name": "Python 3 (ipykernel)",
   "language": "python",
   "name": "python3"
  },
  "language_info": {
   "codemirror_mode": {
    "name": "ipython",
    "version": 3
   },
   "file_extension": ".py",
   "mimetype": "text/x-python",
   "name": "python",
   "nbconvert_exporter": "python",
   "pygments_lexer": "ipython3",
   "version": "3.8.10"
  }
 },
 "nbformat": 4,
 "nbformat_minor": 5
}
