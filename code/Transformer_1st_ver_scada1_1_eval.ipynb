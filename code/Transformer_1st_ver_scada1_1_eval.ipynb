{
 "cells": [
  {
   "cell_type": "code",
   "execution_count": 1,
   "id": "d6d4a3e9",
   "metadata": {},
   "outputs": [],
   "source": [
    "import torch\n",
    "import numpy as np\n",
    "from train import create_dataloader\n",
    "from model import make_model\n",
    "from data_loader import CustomDataset"
   ]
  },
  {
   "cell_type": "code",
   "execution_count": 2,
   "id": "ae69791d",
   "metadata": {},
   "outputs": [],
   "source": [
    "config = {'dataset': 'scada1_1', 'l_win': 200, 'pre_mask': 80, 'post_mask': 120,\n",
    "          'batch_size': 64, 'shuffle': True, 'dataloader_num_workers': 10, 'num_epoch': 100, 'model_path': '../models/'}"
   ]
  },
  {
   "cell_type": "code",
   "execution_count": 3,
   "id": "a6f3847c",
   "metadata": {},
   "outputs": [
    {
     "data": {
      "text/plain": [
       "AnomalyModel(\n",
       "  (encoder): Encoder(\n",
       "    (layers): ModuleList(\n",
       "      (0): EncoderLayer(\n",
       "        (self_attn): MultiHeadAttention(\n",
       "          (linears): ModuleList(\n",
       "            (0): Linear(in_features=16, out_features=16, bias=True)\n",
       "            (1): Linear(in_features=16, out_features=16, bias=True)\n",
       "            (2): Linear(in_features=16, out_features=16, bias=True)\n",
       "            (3): Linear(in_features=16, out_features=16, bias=True)\n",
       "          )\n",
       "        )\n",
       "        (feed_forward): PositionwiseFeedForward(\n",
       "          (w_1): Linear(in_features=16, out_features=128, bias=True)\n",
       "          (w_2): Linear(in_features=128, out_features=16, bias=True)\n",
       "          (dropout): Dropout(p=0.1, inplace=False)\n",
       "        )\n",
       "        (sublayer): ModuleList(\n",
       "          (0): SublayerConnection(\n",
       "            (norm): LayerNorm((16,), eps=1e-05, elementwise_affine=True)\n",
       "            (dropout): Dropout(p=0.1, inplace=False)\n",
       "          )\n",
       "          (1): SublayerConnection(\n",
       "            (norm): LayerNorm((16,), eps=1e-05, elementwise_affine=True)\n",
       "            (dropout): Dropout(p=0.1, inplace=False)\n",
       "          )\n",
       "        )\n",
       "      )\n",
       "      (1): EncoderLayer(\n",
       "        (self_attn): MultiHeadAttention(\n",
       "          (linears): ModuleList(\n",
       "            (0): Linear(in_features=16, out_features=16, bias=True)\n",
       "            (1): Linear(in_features=16, out_features=16, bias=True)\n",
       "            (2): Linear(in_features=16, out_features=16, bias=True)\n",
       "            (3): Linear(in_features=16, out_features=16, bias=True)\n",
       "          )\n",
       "        )\n",
       "        (feed_forward): PositionwiseFeedForward(\n",
       "          (w_1): Linear(in_features=16, out_features=128, bias=True)\n",
       "          (w_2): Linear(in_features=128, out_features=16, bias=True)\n",
       "          (dropout): Dropout(p=0.1, inplace=False)\n",
       "        )\n",
       "        (sublayer): ModuleList(\n",
       "          (0): SublayerConnection(\n",
       "            (norm): LayerNorm((16,), eps=1e-05, elementwise_affine=True)\n",
       "            (dropout): Dropout(p=0.1, inplace=False)\n",
       "          )\n",
       "          (1): SublayerConnection(\n",
       "            (norm): LayerNorm((16,), eps=1e-05, elementwise_affine=True)\n",
       "            (dropout): Dropout(p=0.1, inplace=False)\n",
       "          )\n",
       "        )\n",
       "      )\n",
       "      (2): EncoderLayer(\n",
       "        (self_attn): MultiHeadAttention(\n",
       "          (linears): ModuleList(\n",
       "            (0): Linear(in_features=16, out_features=16, bias=True)\n",
       "            (1): Linear(in_features=16, out_features=16, bias=True)\n",
       "            (2): Linear(in_features=16, out_features=16, bias=True)\n",
       "            (3): Linear(in_features=16, out_features=16, bias=True)\n",
       "          )\n",
       "        )\n",
       "        (feed_forward): PositionwiseFeedForward(\n",
       "          (w_1): Linear(in_features=16, out_features=128, bias=True)\n",
       "          (w_2): Linear(in_features=128, out_features=16, bias=True)\n",
       "          (dropout): Dropout(p=0.1, inplace=False)\n",
       "        )\n",
       "        (sublayer): ModuleList(\n",
       "          (0): SublayerConnection(\n",
       "            (norm): LayerNorm((16,), eps=1e-05, elementwise_affine=True)\n",
       "            (dropout): Dropout(p=0.1, inplace=False)\n",
       "          )\n",
       "          (1): SublayerConnection(\n",
       "            (norm): LayerNorm((16,), eps=1e-05, elementwise_affine=True)\n",
       "            (dropout): Dropout(p=0.1, inplace=False)\n",
       "          )\n",
       "        )\n",
       "      )\n",
       "      (3): EncoderLayer(\n",
       "        (self_attn): MultiHeadAttention(\n",
       "          (linears): ModuleList(\n",
       "            (0): Linear(in_features=16, out_features=16, bias=True)\n",
       "            (1): Linear(in_features=16, out_features=16, bias=True)\n",
       "            (2): Linear(in_features=16, out_features=16, bias=True)\n",
       "            (3): Linear(in_features=16, out_features=16, bias=True)\n",
       "          )\n",
       "        )\n",
       "        (feed_forward): PositionwiseFeedForward(\n",
       "          (w_1): Linear(in_features=16, out_features=128, bias=True)\n",
       "          (w_2): Linear(in_features=128, out_features=16, bias=True)\n",
       "          (dropout): Dropout(p=0.1, inplace=False)\n",
       "        )\n",
       "        (sublayer): ModuleList(\n",
       "          (0): SublayerConnection(\n",
       "            (norm): LayerNorm((16,), eps=1e-05, elementwise_affine=True)\n",
       "            (dropout): Dropout(p=0.1, inplace=False)\n",
       "          )\n",
       "          (1): SublayerConnection(\n",
       "            (norm): LayerNorm((16,), eps=1e-05, elementwise_affine=True)\n",
       "            (dropout): Dropout(p=0.1, inplace=False)\n",
       "          )\n",
       "        )\n",
       "      )\n",
       "      (4): EncoderLayer(\n",
       "        (self_attn): MultiHeadAttention(\n",
       "          (linears): ModuleList(\n",
       "            (0): Linear(in_features=16, out_features=16, bias=True)\n",
       "            (1): Linear(in_features=16, out_features=16, bias=True)\n",
       "            (2): Linear(in_features=16, out_features=16, bias=True)\n",
       "            (3): Linear(in_features=16, out_features=16, bias=True)\n",
       "          )\n",
       "        )\n",
       "        (feed_forward): PositionwiseFeedForward(\n",
       "          (w_1): Linear(in_features=16, out_features=128, bias=True)\n",
       "          (w_2): Linear(in_features=128, out_features=16, bias=True)\n",
       "          (dropout): Dropout(p=0.1, inplace=False)\n",
       "        )\n",
       "        (sublayer): ModuleList(\n",
       "          (0): SublayerConnection(\n",
       "            (norm): LayerNorm((16,), eps=1e-05, elementwise_affine=True)\n",
       "            (dropout): Dropout(p=0.1, inplace=False)\n",
       "          )\n",
       "          (1): SublayerConnection(\n",
       "            (norm): LayerNorm((16,), eps=1e-05, elementwise_affine=True)\n",
       "            (dropout): Dropout(p=0.1, inplace=False)\n",
       "          )\n",
       "        )\n",
       "      )\n",
       "      (5): EncoderLayer(\n",
       "        (self_attn): MultiHeadAttention(\n",
       "          (linears): ModuleList(\n",
       "            (0): Linear(in_features=16, out_features=16, bias=True)\n",
       "            (1): Linear(in_features=16, out_features=16, bias=True)\n",
       "            (2): Linear(in_features=16, out_features=16, bias=True)\n",
       "            (3): Linear(in_features=16, out_features=16, bias=True)\n",
       "          )\n",
       "        )\n",
       "        (feed_forward): PositionwiseFeedForward(\n",
       "          (w_1): Linear(in_features=16, out_features=128, bias=True)\n",
       "          (w_2): Linear(in_features=128, out_features=16, bias=True)\n",
       "          (dropout): Dropout(p=0.1, inplace=False)\n",
       "        )\n",
       "        (sublayer): ModuleList(\n",
       "          (0): SublayerConnection(\n",
       "            (norm): LayerNorm((16,), eps=1e-05, elementwise_affine=True)\n",
       "            (dropout): Dropout(p=0.1, inplace=False)\n",
       "          )\n",
       "          (1): SublayerConnection(\n",
       "            (norm): LayerNorm((16,), eps=1e-05, elementwise_affine=True)\n",
       "            (dropout): Dropout(p=0.1, inplace=False)\n",
       "          )\n",
       "        )\n",
       "      )\n",
       "    )\n",
       "    (norm): LayerNorm((16,), eps=1e-05, elementwise_affine=True)\n",
       "  )\n",
       "  (src_embed): Sequential(\n",
       "    (0): PositionalEncoding(\n",
       "      (dropout): Dropout(p=0.1, inplace=False)\n",
       "    )\n",
       "  )\n",
       "  (linear): Linear(in_features=16, out_features=16, bias=True)\n",
       ")"
      ]
     },
     "execution_count": 3,
     "metadata": {},
     "output_type": "execute_result"
    }
   ],
   "source": [
    "model = make_model(N=6, d_model=16, l_win=config['l_win'], d_ff=128, h=1, dropout=0.1).float()\n",
    "model.load_state_dict(torch.load(config['model_path'] + \"best_train_46.pth\"))\n",
    "model.eval()"
   ]
  },
  {
   "cell_type": "code",
   "execution_count": 4,
   "id": "8d94d3ae",
   "metadata": {},
   "outputs": [],
   "source": [
    "dataset = CustomDataset(config, train=False)\n",
    "data_loader = create_dataloader(dataset, config)"
   ]
  },
  {
   "cell_type": "code",
   "execution_count": 5,
   "id": "8ecc6f57",
   "metadata": {},
   "outputs": [],
   "source": [
    "out = None\n",
    "batch = None\n",
    "loss = torch.nn.MSELoss()\n",
    "n_test = dataset.rolling_windows.shape[0]\n",
    "recon_loss = np.zeros(n_test)\n",
    "for i, batch in enumerate(data_loader):\n",
    "    out = model(batch['input'].float(), src_mask=None)\n",
    "    for j in range(config['batch_size']):\n",
    "        try:\n",
    "            recon_loss[i * config['batch_size'] + j] = loss(out[j, config['pre_mask']:config['post_mask'], :], batch['target'][j, :, :])\n",
    "        except:\n",
    "            pass    "
   ]
  },
  {
   "cell_type": "code",
   "execution_count": 6,
   "id": "164d11df",
   "metadata": {},
   "outputs": [],
   "source": [
    "idx_anomaly_test = dataset.data['idx_anomaly_test']\n",
    "anomaly_index = []\n",
    "test_labels = np.zeros(n_test)\n",
    "for i in range(len(idx_anomaly_test)):\n",
    "    idx_start = idx_anomaly_test[i] - (config['l_win'] + 1)\n",
    "    idx_end = idx_anomaly_test[i] + (config['l_win'] + 1)\n",
    "    if idx_start < 0:\n",
    "        idx_start = 0\n",
    "    if idx_end > n_test:\n",
    "        idx_end = n_test\n",
    "    anomaly_index.append(np.arange(idx_start, idx_end))\n",
    "    test_labels[idx_start:idx_end] = 1"
   ]
  },
  {
   "cell_type": "code",
   "execution_count": 7,
   "id": "cb0d5a4e",
   "metadata": {},
   "outputs": [
    {
     "name": "stdout",
     "output_type": "stream",
     "text": [
      "(68459,)\n",
      "(68658, 16)\n",
      "(68459, 200, 16)\n"
     ]
    },
    {
     "data": {
      "text/plain": [
       "array([0.68283845, 0.30998265, 0.32771299, ..., 0.65926728, 1.18009983,\n",
       "       1.21999635])"
      ]
     },
     "execution_count": 7,
     "metadata": {},
     "output_type": "execute_result"
    }
   ],
   "source": [
    "print(recon_loss.shape)\n",
    "print(dataset.data['test'].shape)\n",
    "print(dataset.rolling_windows.shape)\n",
    "recon_loss"
   ]
  },
  {
   "cell_type": "code",
   "execution_count": 8,
   "id": "c5f0d886",
   "metadata": {},
   "outputs": [],
   "source": [
    "def return_anomaly_idx_by_threshold(test_anomaly_metric, threshold):\n",
    "    test_list = np.squeeze(np.ndarray.flatten(test_anomaly_metric))\n",
    "    idx_error = np.squeeze(np.argwhere(test_anomaly_metric > threshold))\n",
    "    \n",
    "    if len(idx_error.shape) == 0:\n",
    "        idx_error = np.expand_dims(idx_error, 0)\n",
    "    \n",
    "    return list(idx_error)"
   ]
  },
  {
   "cell_type": "code",
   "execution_count": 9,
   "id": "31f4eb8d",
   "metadata": {},
   "outputs": [],
   "source": [
    "def augment_detected_idx(idx_detected_anomaly, anomaly_index):\n",
    "    n_anomaly = len(anomaly_index)\n",
    "    idx_detected_anomaly_extended = list(idx_detected_anomaly)\n",
    "    for i in range(n_anomaly):\n",
    "        #print(idx_detected_anomaly)\n",
    "        for j in idx_detected_anomaly:\n",
    "            if j in anomaly_index[i]:\n",
    "                in_original_detection = set(idx_detected_anomaly_extended)\n",
    "                currect_anomaly_win = set(anomaly_index[i])\n",
    "                idx_detected_anomaly_extended = idx_detected_anomaly_extended + list(currect_anomaly_win - in_original_detection)\n",
    "                #print(j)\n",
    "                break\n",
    "                \n",
    "    return list(np.sort(idx_detected_anomaly_extended))"
   ]
  },
  {
   "cell_type": "code",
   "execution_count": 10,
   "id": "60fa6688",
   "metadata": {},
   "outputs": [],
   "source": [
    "def count_TP_FP_FN(idx_detected_anomaly, anomaly_index, test_labels):\n",
    "    n_TP = 0\n",
    "    n_FP = 0\n",
    "    #n_detection = len(idx_detected_anomaly)\n",
    "    #for i in range(n_detection):\n",
    "    for i in idx_detected_anomaly:    \n",
    "        #if test_labels[idx_detected_anomaly[i]] == 1:\n",
    "        if test_labels[i] == 1:    \n",
    "            n_TP = n_TP + 1\n",
    "        else:\n",
    "            n_FP = n_FP + 1 #both branch the same?\n",
    "    \n",
    "    idx_undetected = list(set(np.arange(len(test_labels)))- set(idx_detected_anomaly))\n",
    "    n_FN = 0\n",
    "    for i in idx_undetected:\n",
    "        if test_labels[i] == 1:\n",
    "            n_FN = n_FN + 1\n",
    "    n_TN = len(test_labels) - n_TP - n_FP - n_FN\n",
    "    return n_TP, n_FP, n_FN, n_TN"
   ]
  },
  {
   "cell_type": "code",
   "execution_count": 11,
   "id": "d3953f28",
   "metadata": {},
   "outputs": [],
   "source": [
    "def compute_precision_and_recall(idx_detected_anomaly, anomaly_index, test_labels):\n",
    "    # compute true positive\n",
    "    n_TP, n_FP, n_FN, n_TN = count_TP_FP_FN(idx_detected_anomaly, anomaly_index, test_labels)\n",
    "    \n",
    "    if n_TP + n_FP == 0:\n",
    "        precision = 1\n",
    "    else:\n",
    "        precision = n_TP / (n_TP + n_FP)\n",
    "    recall = n_TP / (n_TP + n_FN)\n",
    "    if precision + recall == 0:\n",
    "        F1 = 0\n",
    "    else:\n",
    "        F1 = 2* (precision * recall)/(precision + recall)\n",
    "    fpr = n_FP/(n_FP + n_TN)    \n",
    "    \n",
    "    return precision, recall, F1, fpr, n_TP, n_FP, n_FN"
   ]
  },
  {
   "cell_type": "code",
   "execution_count": 12,
   "id": "effde3ef",
   "metadata": {},
   "outputs": [
    {
     "name": "stdout",
     "output_type": "stream",
     "text": [
      "KQp is: 0.17111184663097667 with q = 0.99\n",
      "KQp is: 0.1918394828901368 with q = 0.95\n",
      "KQp is: 0.21226895236910726 with q = 0.9\n",
      "KQp is: 0.22747718280898832 with q = 0.85\n",
      "KQp is: 0.23707251267982782 with q = 0.8\n",
      "KQp is: 0.2683924762476921 with q = 0.7\n",
      "KQp is: 0.3041790412041757 with q = 0.6\n",
      "KQp is: 0.3384558312839936 with q = 0.5\n",
      "KQp is: 0.3699382888272649 with q = 0.4\n",
      "KQp is: 0.40519595835045685 with q = 0.3\n",
      "KQp is: 0.4831596854970711 with q = 0.2\n",
      "KQp is: 0.9478404581498677 with q = 0.1\n"
     ]
    }
   ],
   "source": [
    "import math\n",
    "from scipy.stats import norm\n",
    "\n",
    "def KQp(data,q):\n",
    "#UNTITLED3 Summary of this function goes here\n",
    "#   Detailed explanation goes here\n",
    "    data2 = np.sort(data) #sap xep tang dan\n",
    "    n = np.shape(data2)[0] #kich thuoc\n",
    "    p = 1-q #q tu xet, dat bang smth 0.05 0.025 0.01\n",
    "    h = math.sqrt((p*q)/(n+1));\n",
    "    KQ=0;\n",
    "    for i in range(1,n+1):\n",
    "        a= ((i/n)-p)/h;\n",
    "        b= (((i-1)/n)-p)/h;\n",
    "        TP=(norm.cdf(a)-norm.cdf(b))*data2[i-1]; #normcdf thu trong matlab\n",
    "        KQ=KQ+TP;    \n",
    "    #KQp = KQ;\n",
    "    return KQ\n",
    "\n",
    "for i in [0.99, 0.95, 0.9, 0.85, 0.8, 0.7, 0.6, 0.5, 0.4, 0.3, 0.2, 0.1]:\n",
    "    print(\"KQp is:\", KQp(recon_loss,i),\"with q =\",i)\n"
   ]
  },
  {
   "cell_type": "code",
   "execution_count": 14,
   "id": "f060fd8a",
   "metadata": {},
   "outputs": [
    {
     "name": "stdout",
     "output_type": "stream",
     "text": [
      "threshold list: [4.29628816e+02 4.11733786e+02 3.93838755e+02 3.75943724e+02\n",
      " 3.58048693e+02 3.40153662e+02 3.22258631e+02 3.04363600e+02\n",
      " 2.86468570e+02 2.68573539e+02 2.50678508e+02 2.32783477e+02\n",
      " 2.14888446e+02 1.96993415e+02 1.79098384e+02 1.61203353e+02\n",
      " 1.43308323e+02 1.25413292e+02 1.07518261e+02 8.96232299e+01\n",
      " 7.17281990e+01 5.38331682e+01 3.59381373e+01 1.80431064e+01\n",
      " 1.48075540e-01]\n"
     ]
    }
   ],
   "source": [
    "n_threshold = 25\n",
    "precision = np.zeros(n_threshold)\n",
    "recall = np.zeros(n_threshold)\n",
    "F1 = np.zeros(n_threshold)\n",
    "precision_aug = np.zeros(n_threshold)\n",
    "recall_aug = np.zeros(n_threshold)\n",
    "F1_aug = np.zeros(n_threshold)\n",
    "fpr_aug = np.zeros(n_threshold)\n",
    "i = 0\n",
    "threshold_list = np.linspace(np.amin(recon_loss), np.amax(recon_loss), n_threshold, endpoint=True)\n",
    "threshold_list = np.flip(threshold_list)\n",
    "for threshold in threshold_list:\n",
    "    #print(threshold_list[i])\n",
    "    idx_detection = return_anomaly_idx_by_threshold(recon_loss, threshold)\n",
    "    precision[i], recall[i], F1[i], _, _, _, _ = compute_precision_and_recall(idx_detection, \n",
    "                                                                           anomaly_index, \n",
    "                                                                           test_labels)\n",
    "    # augment the detection using the ground truth labels\n",
    "    # a method to discount the factor one anomaly appears in multiple consecutive windows\n",
    "    # introduced in \"Unsupervised anomaly detection via variational auto-encoder for seasonal kpis in web applications\"\n",
    "    idx_detection_augmented = augment_detected_idx(idx_detection, anomaly_index)\n",
    "    precision_aug[i], recall_aug[i], F1_aug[i], fpr_aug[i], _, _, _ = compute_precision_and_recall(idx_detection_augmented, \n",
    "                                                                                       anomaly_index, \n",
    "                                                                                       test_labels)\n",
    "    i = i + 1\n",
    "    #print(precision, recall, F1)    \n",
    "    \n",
    "print('threshold list:',threshold_list)"
   ]
  },
  {
   "cell_type": "code",
   "execution_count": 15,
   "id": "420a4e99",
   "metadata": {},
   "outputs": [
    {
     "name": "stdout",
     "output_type": "stream",
     "text": [
      "Best F1 score is 0.9846719712868276\n",
      "Best threshold is 0.14807553982824487\n",
      "At this threshold, precision is 0.9698209120920857, recall is 0.9999849381711927\n",
      "Average precision is 0.96977267001817\n",
      "\n",
      "Augmented detection:\n",
      "Best F1 score is 0.9846795004894254\n",
      "Best threshold is 0.14807553982824487\n",
      "At this threshold, precision is 0.9698213529265692, recall is 1.0\n",
      "Average precision is 0.9940677475981843\n"
     ]
    }
   ],
   "source": [
    "print(\"Best F1 score is {}\".format(np.amax(F1)))\n",
    "idx_best_threshold = np.squeeze(np.argwhere(F1 == np.amax(F1)))\n",
    "print(\"Best threshold is {}\".format(threshold_list[idx_best_threshold]))\n",
    "print(\"At this threshold, precision is {}, recall is {}\".format(precision[idx_best_threshold], recall[idx_best_threshold]))\n",
    "average_precision = np.sum(precision[1:] * (recall[1:] - recall[:-1]))\n",
    "print(\"Average precision is {}\".format(average_precision))\n",
    "\n",
    "print(\"\\nAugmented detection:\")\n",
    "print(\"Best F1 score is {}\".format(np.amax(F1_aug)))\n",
    "idx_best_threshold = np.squeeze(np.argwhere(F1_aug == np.amax(F1_aug)))\n",
    "print(\"Best threshold is {}\".format(threshold_list[idx_best_threshold]))\n",
    "best_thres = np.min(threshold_list[idx_best_threshold])\n",
    "print(\"At this threshold, precision is {}, recall is {}\".format(precision_aug[idx_best_threshold], \n",
    "                                                                recall_aug[idx_best_threshold]))\n",
    "\n",
    "average_precision_aug = np.sum(precision_aug[1:] * (recall_aug[1:] - recall_aug[:-1]))\n",
    "print(\"Average precision is {}\".format(average_precision_aug))"
   ]
  },
  {
   "cell_type": "code",
   "execution_count": 16,
   "id": "9318dcf9",
   "metadata": {},
   "outputs": [
    {
     "name": "stdout",
     "output_type": "stream",
     "text": [
      "Closest KQp threshold is 0.17111184663097667 at q = 0.99\n",
      "\n",
      "PR evaluation using KQE:\n",
      "Precision: 0.9701614670855556\n",
      "Recall: 1.0\n",
      "F1: 0.9848547779393004\n",
      "TP: 66393\n",
      "FP: 2042\n",
      "FN: 0\n",
      "\n",
      "Threshold is 0.14807553982824487\n",
      "\n",
      "PR evaluation using augmented detection:\n",
      "Precision: 0.9698213529265692\n",
      "Recall: 1.0\n",
      "F1: 0.9846795004894254\n",
      "TP: 66393\n",
      "FP: 2066\n"
     ]
    }
   ],
   "source": [
    "# Now select a threshold\n",
    "threshold = best_thres\n",
    "q_list = [0.99, 0.95, 0.9, 0.85, 0.8, 0.7, 0.6, 0.5, 0.4, 0.3, 0.2, 0.1]\n",
    "temp = math.inf\n",
    "q_best = 0\n",
    "closest_thres = 0\n",
    "for q in q_list:\n",
    "    temp_thres = KQp(recon_loss, q)\n",
    "    #print(temp_thres,abs(temp_thres - threshold))\n",
    "    if abs(temp_thres - threshold) < temp:\n",
    "        temp = abs(temp_thres - threshold)\n",
    "        q_best = q\n",
    "        KQp_thres = temp_thres\n",
    "    \n",
    "print(\"Closest KQp threshold is {} at q = {}\".format(KQp_thres,q_best))\n",
    "idx_detection = return_anomaly_idx_by_threshold(recon_loss, KQp_thres)\n",
    "#print(idx_detection)\n",
    "idx_detection_augmented = augment_detected_idx(idx_detection, anomaly_index)\n",
    "#print(anomaly_index_lstm)\n",
    "#print(idx_detection_augmented)\n",
    "precision, recall, F1, _, n_TP, n_FP, n_FN = compute_precision_and_recall(idx_detection_augmented, \n",
    "                                                                       anomaly_index, \n",
    "                                                                       test_labels)\n",
    "print(\"\\nPR evaluation using KQE:\")\n",
    "print(\"Precision: {}\".format(precision))\n",
    "print(\"Recall: {}\".format(recall))\n",
    "print(\"F1: {}\".format(F1))\n",
    "print(\"TP: {}\".format(n_TP))\n",
    "print(\"FP: {}\".format(n_FP))\n",
    "print(\"FN: {}\".format(n_FN))\n",
    "\n",
    "print(\"\\nThreshold is {}\".format(threshold))\n",
    "idx_detection = return_anomaly_idx_by_threshold(recon_loss, threshold)\n",
    "idx_detection_augmented = augment_detected_idx(idx_detection, anomaly_index)\n",
    "precision, recall, F1, _,n_TP, n_FP, n_FN = compute_precision_and_recall(idx_detection_augmented, \n",
    "                                                                       anomaly_index, \n",
    "                                                                       test_labels)\n",
    "print(\"\\nPR evaluation using augmented detection:\")\n",
    "print(\"Precision: {}\".format(precision))\n",
    "print(\"Recall: {}\".format(recall))\n",
    "print(\"F1: {}\".format(F1))\n",
    "print(\"TP: {}\".format(n_TP))\n",
    "print(\"FP: {}\".format(n_FP))"
   ]
  },
  {
   "cell_type": "code",
   "execution_count": 17,
   "id": "b86dea4c",
   "metadata": {},
   "outputs": [
    {
     "name": "stdout",
     "output_type": "stream",
     "text": [
      "AUC = 0.5069441081778163\n"
     ]
    },
    {
     "data": {
      "image/png": "[encoded data removed]",
      "text/plain": [
       "<Figure size 432x288 with 1 Axes>"
      ]
     },
     "metadata": {
      "needs_background": "light"
     },
     "output_type": "display_data"
    }
   ],
   "source": [
    "from sklearn import metrics\n",
    "import matplotlib.pyplot as plt\n",
    "%matplotlib inline\n",
    "fpr, tpr, _ = metrics.roc_curve(test_labels,recon_loss, pos_label = 1)\n",
    "auc = metrics.auc(fpr,tpr)\n",
    "print('AUC =', auc)\n",
    "lw = 2\n",
    "plt.plot(fpr, tpr, color='darkorange', lw=lw, label='ROC curve (area = %0.2f)' % auc)\n",
    "plt.plot([0, 1], [0, 1], color='navy', lw=lw, linestyle='--')\n",
    "plt.xlim([0.0, 1.0])\n",
    "plt.ylim([0.0, 1.05])\n",
    "plt.xlabel('False Positive Rate')\n",
    "plt.ylabel('True Positive Rate')\n",
    "plt.title('Receiver operating characteristic of ' + config['dataset'])\n",
    "plt.legend(loc=\"lower right\")\n",
    "plt.show()"
   ]
  },
  {
   "cell_type": "code",
   "execution_count": 19,
   "id": "3889e93c",
   "metadata": {},
   "outputs": [
    {
     "name": "stdout",
     "output_type": "stream",
     "text": [
      "AUC = 0.9017489896217584\n"
     ]
    },
    {
     "data": {
      "image/png": "[encoded data removed]",
      "text/plain": [
       "<Figure size 432x288 with 1 Axes>"
      ]
     },
     "metadata": {
      "needs_background": "light"
     },
     "output_type": "display_data"
    }
   ],
   "source": [
    "tpr = np.insert(recall_aug,[0,n_threshold],[0,1])\n",
    "fpr = np.insert(fpr_aug,[0,n_threshold],[0,1])\n",
    "auc = metrics.auc(fpr,tpr)\n",
    "print('AUC =', auc)\n",
    "lw = 2\n",
    "plt.plot(fpr, tpr, color='darkorange', lw=lw, label='ROC curve (area = %0.4f)' % auc)\n",
    "plt.plot([0, 1], [0, 1], color='navy', lw=lw, linestyle='--')\n",
    "plt.xlim([0.0, 1.0])\n",
    "plt.ylim([0.0, 1.05])\n",
    "plt.xlabel('False Positive Rate')\n",
    "plt.ylabel('True Positive Rate')\n",
    "plt.title('Augmented Receiver operating characteristic of ' + config['dataset'])\n",
    "plt.legend(loc=\"lower right\")\n",
    "# savefig(config['result_dir']+ 'augmentedroc.pdf')\n",
    "plt.show()"
   ]
  },
  {
   "cell_type": "code",
   "execution_count": null,
   "id": "358f7c4e",
   "metadata": {},
   "outputs": [],
   "source": []
  },
  {
   "cell_type": "code",
   "execution_count": null,
   "id": "7c59847c",
   "metadata": {},
   "outputs": [],
   "source": []
  }
 ],
 "metadata": {
  "kernelspec": {
   "display_name": "Python 3 (ipykernel)",
   "language": "python",
   "name": "python3"
  },
  "language_info": {
   "codemirror_mode": {
    "name": "ipython",
    "version": 3
   },
   "file_extension": ".py",
   "mimetype": "text/x-python",
   "name": "python",
   "nbconvert_exporter": "python",
   "pygments_lexer": "ipython3",
   "version": "3.8.10"
  }
 },
 "nbformat": 4,
 "nbformat_minor": 5
}
