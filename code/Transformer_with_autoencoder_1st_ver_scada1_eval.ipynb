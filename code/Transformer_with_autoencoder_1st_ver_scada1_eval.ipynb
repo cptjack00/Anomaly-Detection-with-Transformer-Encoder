{
 "cells": [
  {
   "cell_type": "code",
   "execution_count": 1,
   "id": "fa799793",
   "metadata": {},
   "outputs": [],
   "source": [
    "import torch\n",
    "import numpy as np\n",
    "from train import create_dataloader, create_mask\n",
    "from models import make_transformer_model, make_autoencoder_model\n",
    "from data_loader import CustomDataset\n",
    "from utils import get_config_from_json"
   ]
  },
  {
   "cell_type": "code",
   "execution_count": 2,
   "id": "314bc176",
   "metadata": {},
   "outputs": [],
   "source": [
    "config = get_config_from_json(\"./configs/scada1_centralized_with_autoencoder.json\")"
   ]
  },
  {
   "cell_type": "code",
   "execution_count": 3,
   "id": "4f4fd695",
   "metadata": {},
   "outputs": [],
   "source": [
    "config['model_path'] = \"../experiments/{}/{}/checkpoints/\".format(config['experiment'], config['data_dir'])"
   ]
  },
  {
   "cell_type": "code",
   "execution_count": 4,
   "id": "d27743fb",
   "metadata": {},
   "outputs": [],
   "source": [
    "dataset = CustomDataset(config)\n",
    "dataloader = create_dataloader(dataset, config)"
   ]
  },
  {
   "cell_type": "code",
   "execution_count": 5,
   "id": "0e965458",
   "metadata": {},
   "outputs": [
    {
     "data": {
      "text/plain": [
       "TransformerModel(\n",
       "  (encoder): TransformerEncoder(\n",
       "    (layers): ModuleList(\n",
       "      (0): TransformerEncoderLayer(\n",
       "        (self_attn): MultiHeadAttention(\n",
       "          (linears): ModuleList(\n",
       "            (0): Linear(in_features=16, out_features=16, bias=True)\n",
       "            (1): Linear(in_features=16, out_features=16, bias=True)\n",
       "            (2): Linear(in_features=16, out_features=16, bias=True)\n",
       "            (3): Linear(in_features=16, out_features=16, bias=True)\n",
       "          )\n",
       "        )\n",
       "        (feed_forward): PositionwiseFeedForward(\n",
       "          (w_1): Linear(in_features=16, out_features=128, bias=True)\n",
       "          (w_2): Linear(in_features=128, out_features=16, bias=True)\n",
       "          (dropout): Dropout(p=0.1, inplace=False)\n",
       "        )\n",
       "        (sublayer): ModuleList(\n",
       "          (0): SublayerConnection(\n",
       "            (norm): LayerNorm((16,), eps=1e-05, elementwise_affine=True)\n",
       "            (dropout): Dropout(p=0.1, inplace=False)\n",
       "          )\n",
       "          (1): SublayerConnection(\n",
       "            (norm): LayerNorm((16,), eps=1e-05, elementwise_affine=True)\n",
       "            (dropout): Dropout(p=0.1, inplace=False)\n",
       "          )\n",
       "        )\n",
       "      )\n",
       "      (1): TransformerEncoderLayer(\n",
       "        (self_attn): MultiHeadAttention(\n",
       "          (linears): ModuleList(\n",
       "            (0): Linear(in_features=16, out_features=16, bias=True)\n",
       "            (1): Linear(in_features=16, out_features=16, bias=True)\n",
       "            (2): Linear(in_features=16, out_features=16, bias=True)\n",
       "            (3): Linear(in_features=16, out_features=16, bias=True)\n",
       "          )\n",
       "        )\n",
       "        (feed_forward): PositionwiseFeedForward(\n",
       "          (w_1): Linear(in_features=16, out_features=128, bias=True)\n",
       "          (w_2): Linear(in_features=128, out_features=16, bias=True)\n",
       "          (dropout): Dropout(p=0.1, inplace=False)\n",
       "        )\n",
       "        (sublayer): ModuleList(\n",
       "          (0): SublayerConnection(\n",
       "            (norm): LayerNorm((16,), eps=1e-05, elementwise_affine=True)\n",
       "            (dropout): Dropout(p=0.1, inplace=False)\n",
       "          )\n",
       "          (1): SublayerConnection(\n",
       "            (norm): LayerNorm((16,), eps=1e-05, elementwise_affine=True)\n",
       "            (dropout): Dropout(p=0.1, inplace=False)\n",
       "          )\n",
       "        )\n",
       "      )\n",
       "      (2): TransformerEncoderLayer(\n",
       "        (self_attn): MultiHeadAttention(\n",
       "          (linears): ModuleList(\n",
       "            (0): Linear(in_features=16, out_features=16, bias=True)\n",
       "            (1): Linear(in_features=16, out_features=16, bias=True)\n",
       "            (2): Linear(in_features=16, out_features=16, bias=True)\n",
       "            (3): Linear(in_features=16, out_features=16, bias=True)\n",
       "          )\n",
       "        )\n",
       "        (feed_forward): PositionwiseFeedForward(\n",
       "          (w_1): Linear(in_features=16, out_features=128, bias=True)\n",
       "          (w_2): Linear(in_features=128, out_features=16, bias=True)\n",
       "          (dropout): Dropout(p=0.1, inplace=False)\n",
       "        )\n",
       "        (sublayer): ModuleList(\n",
       "          (0): SublayerConnection(\n",
       "            (norm): LayerNorm((16,), eps=1e-05, elementwise_affine=True)\n",
       "            (dropout): Dropout(p=0.1, inplace=False)\n",
       "          )\n",
       "          (1): SublayerConnection(\n",
       "            (norm): LayerNorm((16,), eps=1e-05, elementwise_affine=True)\n",
       "            (dropout): Dropout(p=0.1, inplace=False)\n",
       "          )\n",
       "        )\n",
       "      )\n",
       "      (3): TransformerEncoderLayer(\n",
       "        (self_attn): MultiHeadAttention(\n",
       "          (linears): ModuleList(\n",
       "            (0): Linear(in_features=16, out_features=16, bias=True)\n",
       "            (1): Linear(in_features=16, out_features=16, bias=True)\n",
       "            (2): Linear(in_features=16, out_features=16, bias=True)\n",
       "            (3): Linear(in_features=16, out_features=16, bias=True)\n",
       "          )\n",
       "        )\n",
       "        (feed_forward): PositionwiseFeedForward(\n",
       "          (w_1): Linear(in_features=16, out_features=128, bias=True)\n",
       "          (w_2): Linear(in_features=128, out_features=16, bias=True)\n",
       "          (dropout): Dropout(p=0.1, inplace=False)\n",
       "        )\n",
       "        (sublayer): ModuleList(\n",
       "          (0): SublayerConnection(\n",
       "            (norm): LayerNorm((16,), eps=1e-05, elementwise_affine=True)\n",
       "            (dropout): Dropout(p=0.1, inplace=False)\n",
       "          )\n",
       "          (1): SublayerConnection(\n",
       "            (norm): LayerNorm((16,), eps=1e-05, elementwise_affine=True)\n",
       "            (dropout): Dropout(p=0.1, inplace=False)\n",
       "          )\n",
       "        )\n",
       "      )\n",
       "      (4): TransformerEncoderLayer(\n",
       "        (self_attn): MultiHeadAttention(\n",
       "          (linears): ModuleList(\n",
       "            (0): Linear(in_features=16, out_features=16, bias=True)\n",
       "            (1): Linear(in_features=16, out_features=16, bias=True)\n",
       "            (2): Linear(in_features=16, out_features=16, bias=True)\n",
       "            (3): Linear(in_features=16, out_features=16, bias=True)\n",
       "          )\n",
       "        )\n",
       "        (feed_forward): PositionwiseFeedForward(\n",
       "          (w_1): Linear(in_features=16, out_features=128, bias=True)\n",
       "          (w_2): Linear(in_features=128, out_features=16, bias=True)\n",
       "          (dropout): Dropout(p=0.1, inplace=False)\n",
       "        )\n",
       "        (sublayer): ModuleList(\n",
       "          (0): SublayerConnection(\n",
       "            (norm): LayerNorm((16,), eps=1e-05, elementwise_affine=True)\n",
       "            (dropout): Dropout(p=0.1, inplace=False)\n",
       "          )\n",
       "          (1): SublayerConnection(\n",
       "            (norm): LayerNorm((16,), eps=1e-05, elementwise_affine=True)\n",
       "            (dropout): Dropout(p=0.1, inplace=False)\n",
       "          )\n",
       "        )\n",
       "      )\n",
       "      (5): TransformerEncoderLayer(\n",
       "        (self_attn): MultiHeadAttention(\n",
       "          (linears): ModuleList(\n",
       "            (0): Linear(in_features=16, out_features=16, bias=True)\n",
       "            (1): Linear(in_features=16, out_features=16, bias=True)\n",
       "            (2): Linear(in_features=16, out_features=16, bias=True)\n",
       "            (3): Linear(in_features=16, out_features=16, bias=True)\n",
       "          )\n",
       "        )\n",
       "        (feed_forward): PositionwiseFeedForward(\n",
       "          (w_1): Linear(in_features=16, out_features=128, bias=True)\n",
       "          (w_2): Linear(in_features=128, out_features=16, bias=True)\n",
       "          (dropout): Dropout(p=0.1, inplace=False)\n",
       "        )\n",
       "        (sublayer): ModuleList(\n",
       "          (0): SublayerConnection(\n",
       "            (norm): LayerNorm((16,), eps=1e-05, elementwise_affine=True)\n",
       "            (dropout): Dropout(p=0.1, inplace=False)\n",
       "          )\n",
       "          (1): SublayerConnection(\n",
       "            (norm): LayerNorm((16,), eps=1e-05, elementwise_affine=True)\n",
       "            (dropout): Dropout(p=0.1, inplace=False)\n",
       "          )\n",
       "        )\n",
       "      )\n",
       "    )\n",
       "    (norm): LayerNorm((16,), eps=1e-05, elementwise_affine=True)\n",
       "  )\n",
       "  (src_embed): Sequential(\n",
       "    (0): PositionalEncoding(\n",
       "      (dropout): Dropout(p=0.1, inplace=False)\n",
       "    )\n",
       "  )\n",
       "  (linear): Linear(in_features=16, out_features=16, bias=True)\n",
       ")"
      ]
     },
     "execution_count": 5,
     "metadata": {},
     "output_type": "execute_result"
    }
   ],
   "source": [
    "autoencoder_model = make_autoencoder_model(\n",
    "    seq_len=config['autoencoder_dims'], d_model=config['d_model'])\n",
    "autoencoder_model.load_state_dict(torch.load(config['model_path'] + 'best_autoencoder_4.pth'))\n",
    "autoencoder_model.float()\n",
    "autoencoder_model.eval()\n",
    "\n",
    "\n",
    "mask = create_mask(config)\n",
    "trans_model = make_transformer_model(\n",
    "    N=6, d_model=dataset.rolling_windows.shape[-1], l_win=config['l_win'], d_ff=128, h=1, dropout=0.1)\n",
    "trans_model.load_state_dict(torch.load(config['model_path'] + 'best_trans_13.pth'))\n",
    "trans_model.float()\n",
    "trans_model.eval()\n"
   ]
  },
  {
   "cell_type": "code",
   "execution_count": 6,
   "id": "ff2ebed5",
   "metadata": {},
   "outputs": [
    {
     "name": "stdout",
     "output_type": "stream",
     "text": [
      "CPU times: user 31min 50s, sys: 8.05 s, total: 31min 58s\n",
      "Wall time: 3min 18s\n"
     ]
    }
   ],
   "source": [
    "%%time\n",
    "loss = torch.nn.MSELoss()\n",
    "n_test = dataset.rolling_windows.shape[0]\n",
    "recon_loss = np.zeros(n_test)\n",
    "encoder = autoencoder_model.encoder\n",
    "for i, batch in enumerate(dataloader):\n",
    "    src = encoder(batch['input'].float())\n",
    "    trg = encoder(batch['target'].float())\n",
    "    out = trans_model(src, src_mask=mask)\n",
    "    for j in range(config['batch_size']):\n",
    "        try:\n",
    "            recon_loss[i * config['batch_size'] + j] = loss(\n",
    "                out[j, config['pre_mask']:config['post_mask'], :], trg[j, config['pre_mask']:config['post_mask'], :])\n",
    "        except:\n",
    "            pass\n"
   ]
  },
  {
   "cell_type": "code",
   "execution_count": 7,
   "id": "e57beef0",
   "metadata": {},
   "outputs": [],
   "source": [
    "recon_loss_old = recon_loss"
   ]
  },
  {
   "cell_type": "code",
   "execution_count": 18,
   "id": "c00826df",
   "metadata": {},
   "outputs": [
    {
     "name": "stdout",
     "output_type": "stream",
     "text": [
      "CPU times: user 19min 10s, sys: 8.27 s, total: 19min 18s\n",
      "Wall time: 1min 56s\n"
     ]
    }
   ],
   "source": [
    "%%time\n",
    "loss = torch.nn.MSELoss()\n",
    "n_test = dataset.rolling_windows.shape[0]\n",
    "recon_loss = np.zeros(n_test)\n",
    "encoder = autoencoder_model.encoder\n",
    "for i, batch in enumerate(dataloader):\n",
    "    src = encoder(batch['input'].float())\n",
    "    trg = encoder(batch['target'].float())\n",
    "    out = trans_model(src, src_mask=mask)\n",
    "    recon = loss(out[:, config['pre_mask']:config['post_mask'], :], trg[:, config['pre_mask']:config['post_mask'], :])\n",
    "    \n",
    "#     recon_loss = np.append(recon_loss, np.array([recon]), axis=0)\n",
    "#     recon_loss = np.delete(recon_loss, np.s_[:dataset.rolling_windows.shape[0]], axis=0)\n"
   ]
  },
  {
   "cell_type": "code",
   "execution_count": 12,
   "id": "27b486bf",
   "metadata": {},
   "outputs": [
    {
     "data": {
      "text/plain": [
       "array([0., 0., 0., ..., 0., 0., 0.])"
      ]
     },
     "execution_count": 12,
     "metadata": {},
     "output_type": "execute_result"
    }
   ],
   "source": [
    "recon_loss"
   ]
  },
  {
   "cell_type": "code",
   "execution_count": null,
   "id": "ea710e24",
   "metadata": {},
   "outputs": [],
   "source": []
  }
 ],
 "metadata": {
  "kernelspec": {
   "display_name": "Python 3 (ipykernel)",
   "language": "python",
   "name": "python3"
  },
  "language_info": {
   "codemirror_mode": {
    "name": "ipython",
    "version": 3
   },
   "file_extension": ".py",
   "mimetype": "text/x-python",
   "name": "python",
   "nbconvert_exporter": "python",
   "pygments_lexer": "ipython3",
   "version": "3.8.10"
  }
 },
 "nbformat": 4,
 "nbformat_minor": 5
}
